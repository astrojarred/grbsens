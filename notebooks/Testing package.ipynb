{
 "cells": [
  {
   "cell_type": "markdown",
   "metadata": {},
   "source": [
    "# Testing `grbsens`"
   ]
  },
  {
   "cell_type": "markdown",
   "metadata": {},
   "source": [
    "## imports"
   ]
  },
  {
   "cell_type": "code",
   "execution_count": 22,
   "metadata": {},
   "outputs": [],
   "source": [
    "import os\n",
    "import sys\n",
    "import numpy as np\n",
    "import pandas as pd\n",
    "\n",
    "import gammalib\n",
    "import ctools\n",
    "import cscripts"
   ]
  },
  {
   "cell_type": "code",
   "execution_count": 23,
   "metadata": {},
   "outputs": [],
   "source": [
    "sys.path.insert(0, '/astri01/data1/gershon/ctools_patricelli/')\n",
    "\n",
    "import grbsens.grb\n",
    "\n",
    "# options\n",
    "pd.set_option(\"display.max_columns\", None)"
   ]
  },
  {
   "cell_type": "markdown",
   "metadata": {},
   "source": [
    "## Import the `autoreload` extension"
   ]
  },
  {
   "cell_type": "markdown",
   "metadata": {},
   "source": [
    "- import the `autoreload` jupyter extension so that magic modules can be automatically updated before running functions\n",
    "- very useful for development"
   ]
  },
  {
   "cell_type": "code",
   "execution_count": 24,
   "metadata": {},
   "outputs": [
    {
     "name": "stdout",
     "output_type": "stream",
     "text": [
      "The autoreload extension is already loaded. To reload it, use:\n",
      "  %reload_ext autoreload\n"
     ]
    }
   ],
   "source": [
    "%load_ext autoreload\n",
    "#%reload_ext autoreload"
   ]
  },
  {
   "cell_type": "markdown",
   "metadata": {},
   "source": [
    "- set autoreload to \"2\" which will, according to the [iPy site](https://ipython.readthedocs.io/en/stable/config/extensions/autoreload.html):\n",
    "\n",
    "\"Reload all modules imported with `%aimport` every time before executing the Python code typed.\""
   ]
  },
  {
   "cell_type": "code",
   "execution_count": 25,
   "metadata": {},
   "outputs": [],
   "source": [
    "%autoreload 1"
   ]
  },
  {
   "cell_type": "markdown",
   "metadata": {},
   "source": [
    "- skip the following packages from being reloaded"
   ]
  },
  {
   "cell_type": "code",
   "execution_count": 26,
   "metadata": {},
   "outputs": [],
   "source": [
    "%aimport grbsens.grb"
   ]
  },
  {
   "cell_type": "markdown",
   "metadata": {},
   "source": [
    "- list the packages to import / skip"
   ]
  },
  {
   "cell_type": "code",
   "execution_count": 27,
   "metadata": {},
   "outputs": [
    {
     "name": "stdout",
     "output_type": "stream",
     "text": [
      "Modules to reload:\n",
      "grbsens.grb\n",
      "\n",
      "Modules to skip:\n",
      "\n"
     ]
    }
   ],
   "source": [
    "%aimport"
   ]
  },
  {
   "cell_type": "markdown",
   "metadata": {
    "pycharm": {
     "name": "#%% md\n"
    }
   },
   "source": [
    "## Add ctools info to paths\n",
    "```\n",
    "'CTOOLS': '/astri01/data1/gershon/anaconda3/envs/ctools'\n",
    "'GAMMALIB': '/astri01/data1/gershon/anaconda3/envs/ctools'\n",
    "'CALDB': '/astri01/data1/gershon/anaconda3/envs/ctools/share/caldb'\n",
    "```"
   ]
  },
  {
   "cell_type": "code",
   "execution_count": 28,
   "metadata": {},
   "outputs": [],
   "source": [
    "os.environ[\"CTOOLS\"] = \"/astri01/data1/gershon/anaconda3/envs/ctools\"\n",
    "os.environ[\"GAMMALIB\"] = \"/astri01/data1/gershon/anaconda3/envs/ctools\"\n",
    "os.environ[\"CALDB\"] = \"/astri01/data1/gershon/anaconda3/envs/ctools/share/caldb\""
   ]
  },
  {
   "cell_type": "markdown",
   "metadata": {},
   "source": [
    "# Testing a basic sensitivity run"
   ]
  },
  {
   "cell_type": "code",
   "execution_count": 29,
   "metadata": {},
   "outputs": [
    {
     "name": "stdout",
     "output_type": "stream",
     "text": [
      "Running from t0=0s to t1=4s for a total duration of t=4 with 4 time steps of dt=1s each\n"
     ]
    }
   ],
   "source": [
    "# initialize class\n",
    "input_model_path= \"/astri01/data1/gershon/ctools_patricelli/notebooks/grb.xml\"\n",
    "my_grb = grbsens.grb.grb(input_model=input_model_path, init_time=0, total_time=4, delta_t=1)"
   ]
  },
  {
   "cell_type": "code",
   "execution_count": 30,
   "outputs": [
    {
     "name": "stdout",
     "output_type": "stream",
     "text": [
      "Running `cssens` job #0 for GRB for a duration of 1.0s\n",
      "Done with duration=1s\n",
      "\n",
      "Running `cssens` job #1 for GRB for a duration of 2.0s\n",
      "Done with duration=2s\n",
      "\n",
      "Running `cssens` job #2 for GRB for a duration of 3.0s\n",
      "Done with duration=3s\n",
      "\n",
      "Running `cssens` job #3 for GRB for a duration of 4.0s\n",
      "Done with duration=4s\n",
      "\n"
     ]
    }
   ],
   "source": [
    "# execute grbsens, skip actual running\n",
    "output_directory=\"/astri01/data1/gershon/ctools_patricelli/notebooks\"\n",
    "my_grb.execute(write_to_file=False, cwd=output_directory,_skip=True)\n"
   ],
   "metadata": {
    "collapsed": false,
    "pycharm": {
     "name": "#%%\n"
    }
   }
  },
  {
   "cell_type": "code",
   "execution_count": 31,
   "metadata": {},
   "outputs": [
    {
     "data": {
      "text/plain": "                loge  emin  emax  crab_flux   photon_flux   energy_flux  \\\njob_number                                                                \n0          -0.261439  0.03  10.0   2.084710  7.272769e-09  1.697115e-09   \n1          -0.261439  0.03  10.0   0.899085  3.136569e-09  7.319243e-10   \n2          -0.261439  0.03  10.0   0.662850  2.312434e-09  5.396109e-10   \n3          -0.261439  0.03  10.0   0.529761  1.848138e-09  4.312665e-10   \n\n             sensitivity  regcoeff  nevents      npred  duration  \\\njob_number                                                         \n0           2.880777e-10  0.995410     23.0  22.979056       1.0   \n1           1.242409e-10  0.977380     30.0  29.998423       2.0   \n2           9.159655e-11  0.931974     62.0  61.982471       3.0   \n3           7.320557e-11  0.735037     65.0  64.999965       4.0   \n\n                                                  output_file  \\\njob_number                                                      \n0           /astri01/data1/gershon/ctools_patricelli/noteb...   \n1           /astri01/data1/gershon/ctools_patricelli/noteb...   \n2           /astri01/data1/gershon/ctools_patricelli/noteb...   \n3           /astri01/data1/gershon/ctools_patricelli/noteb...   \n\n                                                     log_file  \njob_number                                                     \n0           /astri01/data1/gershon/ctools_patricelli/noteb...  \n1           /astri01/data1/gershon/ctools_patricelli/noteb...  \n2           /astri01/data1/gershon/ctools_patricelli/noteb...  \n3           /astri01/data1/gershon/ctools_patricelli/noteb...  ",
      "text/html": "<div>\n<style scoped>\n    .dataframe tbody tr th:only-of-type {\n        vertical-align: middle;\n    }\n\n    .dataframe tbody tr th {\n        vertical-align: top;\n    }\n\n    .dataframe thead th {\n        text-align: right;\n    }\n</style>\n<table border=\"1\" class=\"dataframe\">\n  <thead>\n    <tr style=\"text-align: right;\">\n      <th></th>\n      <th>loge</th>\n      <th>emin</th>\n      <th>emax</th>\n      <th>crab_flux</th>\n      <th>photon_flux</th>\n      <th>energy_flux</th>\n      <th>sensitivity</th>\n      <th>regcoeff</th>\n      <th>nevents</th>\n      <th>npred</th>\n      <th>duration</th>\n      <th>output_file</th>\n      <th>log_file</th>\n    </tr>\n    <tr>\n      <th>job_number</th>\n      <th></th>\n      <th></th>\n      <th></th>\n      <th></th>\n      <th></th>\n      <th></th>\n      <th></th>\n      <th></th>\n      <th></th>\n      <th></th>\n      <th></th>\n      <th></th>\n      <th></th>\n    </tr>\n  </thead>\n  <tbody>\n    <tr>\n      <th>0</th>\n      <td>-0.261439</td>\n      <td>0.03</td>\n      <td>10.0</td>\n      <td>2.084710</td>\n      <td>7.272769e-09</td>\n      <td>1.697115e-09</td>\n      <td>2.880777e-10</td>\n      <td>0.995410</td>\n      <td>23.0</td>\n      <td>22.979056</td>\n      <td>1.0</td>\n      <td>/astri01/data1/gershon/ctools_patricelli/noteb...</td>\n      <td>/astri01/data1/gershon/ctools_patricelli/noteb...</td>\n    </tr>\n    <tr>\n      <th>1</th>\n      <td>-0.261439</td>\n      <td>0.03</td>\n      <td>10.0</td>\n      <td>0.899085</td>\n      <td>3.136569e-09</td>\n      <td>7.319243e-10</td>\n      <td>1.242409e-10</td>\n      <td>0.977380</td>\n      <td>30.0</td>\n      <td>29.998423</td>\n      <td>2.0</td>\n      <td>/astri01/data1/gershon/ctools_patricelli/noteb...</td>\n      <td>/astri01/data1/gershon/ctools_patricelli/noteb...</td>\n    </tr>\n    <tr>\n      <th>2</th>\n      <td>-0.261439</td>\n      <td>0.03</td>\n      <td>10.0</td>\n      <td>0.662850</td>\n      <td>2.312434e-09</td>\n      <td>5.396109e-10</td>\n      <td>9.159655e-11</td>\n      <td>0.931974</td>\n      <td>62.0</td>\n      <td>61.982471</td>\n      <td>3.0</td>\n      <td>/astri01/data1/gershon/ctools_patricelli/noteb...</td>\n      <td>/astri01/data1/gershon/ctools_patricelli/noteb...</td>\n    </tr>\n    <tr>\n      <th>3</th>\n      <td>-0.261439</td>\n      <td>0.03</td>\n      <td>10.0</td>\n      <td>0.529761</td>\n      <td>1.848138e-09</td>\n      <td>4.312665e-10</td>\n      <td>7.320557e-11</td>\n      <td>0.735037</td>\n      <td>65.0</td>\n      <td>64.999965</td>\n      <td>4.0</td>\n      <td>/astri01/data1/gershon/ctools_patricelli/noteb...</td>\n      <td>/astri01/data1/gershon/ctools_patricelli/noteb...</td>\n    </tr>\n  </tbody>\n</table>\n</div>"
     },
     "execution_count": 31,
     "metadata": {},
     "output_type": "execute_result"
    }
   ],
   "source": [
    "my_grb.output\n"
   ]
  },
  {
   "cell_type": "markdown",
   "source": [
    "## Custom time steps\n"
   ],
   "metadata": {
    "collapsed": false,
    "pycharm": {
     "name": "#%% md\n"
    }
   }
  },
  {
   "cell_type": "code",
   "execution_count": 32,
   "outputs": [],
   "source": [
    "time_dict = {}"
   ],
   "metadata": {
    "collapsed": false,
    "pycharm": {
     "name": "#%%\n"
    }
   }
  },
  {
   "cell_type": "code",
   "execution_count": 33,
   "outputs": [],
   "source": [
    "time_dict[0] = {\n",
    "    \"min\" : 0,\n",
    "    \"max\" : 60,\n",
    "    \"dt\" : 1\n",
    "}\n",
    "\n",
    "time_dict[1] = {\n",
    "    \"min\" : 60,\n",
    "    \"max\" : 300,\n",
    "    \"dt\" : 10\n",
    "}"
   ],
   "metadata": {
    "collapsed": false,
    "pycharm": {
     "name": "#%%\n"
    }
   }
  },
  {
   "cell_type": "code",
   "execution_count": 33,
   "outputs": [],
   "source": [
    "for key, val in time_dict.items():\n",
    "\n",
    "    time_dict[key][\"time_array\"] = np.arange(val[\"min\"] + val[\"dt\"],\n",
    "                                             val[])"
   ],
   "metadata": {
    "collapsed": false,
    "pycharm": {
     "name": "#%%\n"
    }
   }
  },
  {
   "cell_type": "markdown",
   "metadata": {
    "pycharm": {
     "name": "#%% md\n"
    }
   },
   "source": [
    "## parallel processing\n",
    "- to come next\n",
    "\n",
    "\n"
   ]
  }
 ],
 "metadata": {
  "kernelspec": {
   "name": "ctools",
   "language": "python",
   "display_name": "ctools"
  },
  "language_info": {
   "codemirror_mode": {
    "name": "ipython",
    "version": 3
   },
   "file_extension": ".py",
   "mimetype": "text/x-python",
   "name": "python",
   "nbconvert_exporter": "python",
   "pygments_lexer": "ipython3",
   "version": "3.6.10"
  },
  "toc-autonumbering": true
 },
 "nbformat": 4,
 "nbformat_minor": 4
}