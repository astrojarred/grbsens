{
 "cells": [
  {
   "cell_type": "markdown",
   "id": "pressing-divorce",
   "metadata": {},
   "source": [
    "# Comparing FITS Files"
   ]
  },
  {
   "cell_type": "code",
   "execution_count": 1,
   "id": "previous-popularity",
   "metadata": {},
   "outputs": [],
   "source": [
    "# imports\n",
    "import numpy as np\n",
    "import pandas as pd\n",
    "from astropy.io import fits"
   ]
  },
  {
   "cell_type": "markdown",
   "id": "discrete-lafayette",
   "metadata": {},
   "source": [
    "## Files"
   ]
  },
  {
   "cell_type": "code",
   "execution_count": 12,
   "id": "hidden-drunk",
   "metadata": {},
   "outputs": [],
   "source": [
    "og_file = \"./OG/Prod5-North-20deg-AverageAz-4LSTs09MSTs.1800s-v0.1.fits.gz\"\n",
    "d25_file = \"./alpha/DESY.g20210610.V3.ID0NIM2LST2MST2SST2SCMST2.prod5b-LaPalma-20deg-sq10-LL.N.D25-4LSTs09MSTs-MSTN.1800s.fits.gz\"\n",
    "d27_file = \"./alpha/DESY.g20210610.V3.ID0NIM2LST2MST2SST2SCMST2.prod5b-LaPalma-20deg-sq10-LL.N.D27-4LSTs09MSTs-MSTN.1800s.fits.gz\"\n",
    "\n",
    "og_idx_file = \"./OG/caldb.indx\"\n",
    "d25_idx_file = \"./alpha/caldb-d25.indx\"\n",
    "d27_idx_file = \"./alpha/caldb-d27.indx\""
   ]
  },
  {
   "cell_type": "code",
   "execution_count": 13,
   "id": "growing-ribbon",
   "metadata": {},
   "outputs": [],
   "source": [
    "og = fits.open(og_file)\n",
    "d25 = fits.open(d25_file)\n",
    "d27 = fits.open(d27_file)\n",
    "\n",
    "og_idx = fits.open(og_idx_file)\n",
    "d25_idx = fits.open(d25_idx_file)\n",
    "d27_idx = fits.open(d27_idx_file)"
   ]
  },
  {
   "cell_type": "markdown",
   "id": "furnished-relief",
   "metadata": {},
   "source": [
    "## Index Files"
   ]
  },
  {
   "cell_type": "markdown",
   "id": "awful-taxation",
   "metadata": {},
   "source": [
    "### Info"
   ]
  },
  {
   "cell_type": "code",
   "execution_count": 16,
   "id": "modified-eclipse",
   "metadata": {},
   "outputs": [
    {
     "name": "stdout",
     "output_type": "stream",
     "text": [
      "Filename: ./OG/caldb.indx\n",
      "No.    Name      Ver    Type      Cards   Dimensions   Format\n",
      "  0  PRIMARY       1 PrimaryHDU      42   ()      \n",
      "  1  CIF           1 BinTableHDU     64   648R x 18C   [10A, 10A, 20A, 10A, 20A, 70A, 70A, 3A, 4A, 20A, 630A70, 1I, 10A, 8A, 1D, 1I, 8A, 70A]   \n"
     ]
    }
   ],
   "source": [
    "og_idx.info()"
   ]
  },
  {
   "cell_type": "code",
   "execution_count": 17,
   "id": "impressive-smith",
   "metadata": {},
   "outputs": [
    {
     "name": "stdout",
     "output_type": "stream",
     "text": [
      "Filename: ./alpha/caldb-d25.indx\n",
      "No.    Name      Ver    Type      Cards   Dimensions   Format\n",
      "  0  PRIMARY       1 PrimaryHDU      10   ()      \n",
      "  1  CIF           1 BinTableHDU     64   8R x 18C   [10A, 10A, 20A, 10A, 20A, 70A, 70A, 3A, 4A, 20A, 630A70, 1I, 10A, 8A, 1D, 1I, 8A, 70A]   \n"
     ]
    }
   ],
   "source": [
    "d25_idx.info()"
   ]
  },
  {
   "cell_type": "markdown",
   "id": "sunset-terror",
   "metadata": {},
   "source": [
    "### Primary"
   ]
  },
  {
   "cell_type": "code",
   "execution_count": 19,
   "id": "partial-knight",
   "metadata": {},
   "outputs": [
    {
     "data": {
      "text/plain": [
       "SIMPLE  =                    T / file does conform to FITS standard             \n",
       "BITPIX  =                    8 / number of bits per data pixel                  \n",
       "NAXIS   =                    0 / number of data axes                            \n",
       "EXTEND  =                    T / FITS dataset may contain extensions            \n",
       "COMMENT   FITS (Flexible Image Transport System) format is defined in 'Astronomy\n",
       "COMMENT   and Astrophysics', volume 376, page 359; bibcode: 2001A&A...376..359H \n",
       "COMMENT   FITS (Flexible Image Transport System) format is defined in 'Astronomy\n",
       "COMMENT   and Astrophysics', volume 376, page 359; bibcode: 2001A&A...376..359H \n",
       "COMMENT   FITS (Flexible Image Transport System) format is defined in 'Astronomy\n",
       "COMMENT   and Astrophysics', volume 376, page 359; bibcode: 2001A&A...376..359H \n",
       "COMMENT   FITS (Flexible Image Transport System) format is defined in 'Astronomy\n",
       "COMMENT   and Astrophysics', volume 376, page 359; bibcode: 2001A&A...376..359H \n",
       "COMMENT   FITS (Flexible Image Transport System) format is defined in 'Astronomy\n",
       "COMMENT   and Astrophysics', volume 376, page 359; bibcode: 2001A&A...376..359H \n",
       "COMMENT   FITS (Flexible Image Transport System) format is defined in 'Astronomy\n",
       "COMMENT   and Astrophysics', volume 376, page 359; bibcode: 2001A&A...376..359H \n",
       "COMMENT   FITS (Flexible Image Transport System) format is defined in 'Astronomy\n",
       "COMMENT   and Astrophysics', volume 376, page 359; bibcode: 2001A&A...376..359H \n",
       "COMMENT   FITS (Flexible Image Transport System) format is defined in 'Astronomy\n",
       "COMMENT   and Astrophysics', volume 376, page 359; bibcode: 2001A&A...376..359H \n",
       "COMMENT   FITS (Flexible Image Transport System) format is defined in 'Astronomy\n",
       "COMMENT   and Astrophysics', volume 376, page 359; bibcode: 2001A&A...376..359H \n",
       "COMMENT   FITS (Flexible Image Transport System) format is defined in 'Astronomy\n",
       "COMMENT   and Astrophysics', volume 376, page 359; bibcode: 2001A&A...376..359H \n",
       "COMMENT   FITS (Flexible Image Transport System) format is defined in 'Astronomy\n",
       "COMMENT   and Astrophysics', volume 376, page 359; bibcode: 2001A&A...376..359H \n",
       "COMMENT   FITS (Flexible Image Transport System) format is defined in 'Astronomy\n",
       "COMMENT   and Astrophysics', volume 376, page 359; bibcode: 2001A&A...376..359H \n",
       "COMMENT   FITS (Flexible Image Transport System) format is defined in 'Astronomy\n",
       "COMMENT   and Astrophysics', volume 376, page 359; bibcode: 2001A&A...376..359H \n",
       "COMMENT   FITS (Flexible Image Transport System) format is defined in 'Astronomy\n",
       "COMMENT   and Astrophysics', volume 376, page 359; bibcode: 2001A&A...376..359H \n",
       "COMMENT   FITS (Flexible Image Transport System) format is defined in 'Astronomy\n",
       "COMMENT   and Astrophysics', volume 376, page 359; bibcode: 2001A&A...376..359H \n",
       "COMMENT   FITS (Flexible Image Transport System) format is defined in 'Astronomy\n",
       "COMMENT   and Astrophysics', volume 376, page 359; bibcode: 2001A&A...376..359H \n",
       "COMMENT   FITS (Flexible Image Transport System) format is defined in 'Astronomy\n",
       "COMMENT   and Astrophysics', volume 376, page 359; bibcode: 2001A&A...376..359H \n",
       "COMMENT   FITS (Flexible Image Transport System) format is defined in 'Astronomy\n",
       "COMMENT   and Astrophysics', volume 376, page 359; bibcode: 2001A&A...376..359H \n",
       "COMMENT   FITS (Flexible Image Transport System) format is defined in 'Astronomy\n",
       "COMMENT   and Astrophysics', volume 376, page 359; bibcode: 2001A&A...376..359H "
      ]
     },
     "execution_count": 19,
     "metadata": {},
     "output_type": "execute_result"
    }
   ],
   "source": [
    "og_idx[0].header"
   ]
  },
  {
   "cell_type": "code",
   "execution_count": 20,
   "id": "hindu-novel",
   "metadata": {},
   "outputs": [
    {
     "data": {
      "text/plain": [
       "SIMPLE  =                    T / file does conform to FITS standard             \n",
       "BITPIX  =                    8 / number of bits per data pixel                  \n",
       "NAXIS   =                    0 / number of data axes                            \n",
       "EXTEND  =                    T / FITS dataset may contain extensions            \n",
       "COMMENT   FITS (Flexible Image Transport System) format is defined in 'Astronomy\n",
       "COMMENT   and Astrophysics', volume 376, page 359; bibcode: 2001A&A...376..359H \n",
       "COMMENT   FITS (Flexible Image Transport System) format is defined in 'Astronomy\n",
       "COMMENT   and Astrophysics', volume 376, page 359; bibcode: 2001A&A...376..359H \n",
       "COMMENT   FITS (Flexible Image Transport System) format is defined in 'Astronomy\n",
       "COMMENT   and Astrophysics', volume 376, page 359; bibcode: 2001A&A...376..359H "
      ]
     },
     "execution_count": 20,
     "metadata": {},
     "output_type": "execute_result"
    }
   ],
   "source": [
    "d25_idx[0].header"
   ]
  },
  {
   "cell_type": "code",
   "execution_count": 39,
   "id": "ultimate-pressing",
   "metadata": {},
   "outputs": [
    {
     "data": {
      "text/plain": [
       "648"
      ]
     },
     "execution_count": 39,
     "metadata": {},
     "output_type": "execute_result"
    }
   ],
   "source": [
    "len(og_idx[1].data)"
   ]
  },
  {
   "cell_type": "code",
   "execution_count": 78,
   "id": "precise-anime",
   "metadata": {},
   "outputs": [
    {
     "name": "stdout",
     "output_type": "stream",
     "text": [
      "False PROD5BD25- PROD5-V0.1\n",
      "False data/cta/prod5bd25-v3/bcf/North_z20_0.5h_MST data/cta/prod5-v0.1/bcf/North_z40_50h\n",
      "False CTA-Performance-prod5bd25-v3-North-20deg-MSTN.1800s.FITS Prod5-North-40deg-AverageAz-4LSTs09MSTs.180000s-v0.1.fits.gz\n",
      "False NAME(North_z20_0.5h_MST)                                              VERSION(prod5bd25-v3)                                                 CLASS(BEST)                                                           ANALYSIS(CTA)                                                         ZENITH(20.000)deg                                                     AZIMUTH(90.000)deg                                                    NONE                                                                  NONE                                                                  NONE NAME(North_z40_50h)                                                   VERSION(prod5-v0.1)                                                   CLASS(BEST)                                                           ANALYSIS(CTA)                                                         ZENITH(40.000)deg                                                     AZIMUTH(90.000)deg                                                    NONE                                                                  NONE                                                                  NONE\n"
     ]
    }
   ],
   "source": [
    "for i,j in zip(d25_idx[1].data[0], og_idx[1].data[0]):\n",
    "    if i != j:\n",
    "        print(i==j, i, j)\n",
    "\n",
    "# d25_idx[1].data[0]"
   ]
  },
  {
   "cell_type": "code",
   "execution_count": 66,
   "id": "breeding-black",
   "metadata": {},
   "outputs": [
    {
     "data": {
      "text/plain": [
       "('CTA', 'PROD5BD25-', 'NONE', 'NONE', 'ONLINE', 'data/cta/prod5bd25-v3/bcf/North_z20_0.5h_MST', 'CTA-Performance-prod5bd25-v3-North-20deg-MSTN.1800s.FITS', 'BCF', 'DATA', 'EFF_AREA', 'NAME(North_z20_0.5h_MST)                                              VERSION(prod5bd25-v3)                                                 CLASS(BEST)                                                           ANALYSIS(CTA)                                                         ZENITH(20.000)deg                                                     AZIMUTH(90.000)deg                                                    NONE                                                                  NONE                                                                  NONE', 1, '2014-01-30', '00:00:00', 51544.0, 0, '14/01/30', 'CTA effective area')"
      ]
     },
     "execution_count": 66,
     "metadata": {},
     "output_type": "execute_result"
    }
   ],
   "source": [
    "d25_idx[1].data[3]"
   ]
  },
  {
   "cell_type": "markdown",
   "id": "piano-belfast",
   "metadata": {},
   "source": [
    "**NOTE:** It looks like the file formats are different... \n",
    "They should be `.fits.gz` and not `.FITS`"
   ]
  },
  {
   "cell_type": "markdown",
   "id": "czech-origin",
   "metadata": {},
   "source": [
    "## IRF Files"
   ]
  },
  {
   "cell_type": "code",
   "execution_count": 79,
   "id": "younger-mainland",
   "metadata": {},
   "outputs": [
    {
     "name": "stdout",
     "output_type": "stream",
     "text": [
      "Filename: ./OG/Prod5-North-20deg-AverageAz-4LSTs09MSTs.1800s-v0.1.fits.gz\n",
      "No.    Name      Ver    Type      Cards   Dimensions   Format\n",
      "  0  PRIMARY       1 PrimaryHDU       9   ()      \n",
      "  1  EFFECTIVE AREA    1 BinTableHDU     37   1R x 5C   [42E, 42E, 6E, 6E, 252E]   \n",
      "  2  POINT SPREAD FUNCTION    1 BinTableHDU     55   1R x 10C   [21E, 21E, 6E, 6E, 126E, 126E, 126E, 126E, 126E, 126E]   \n",
      "  3  ENERGY DISPERSION    1 BinTableHDU     40   1R x 7C   [300E, 300E, 300E, 300E, 6E, 6E, 540000E]   \n",
      "  4  BACKGROUND    1 BinTableHDU     44   1R x 7C   [21E, 21E, 60E, 60E, 60E, 60E, 75600E]   \n"
     ]
    }
   ],
   "source": [
    "og.info()"
   ]
  },
  {
   "cell_type": "code",
   "execution_count": 80,
   "id": "confirmed-chair",
   "metadata": {},
   "outputs": [
    {
     "name": "stdout",
     "output_type": "stream",
     "text": [
      "Filename: ./alpha/DESY.g20210610.V3.ID0NIM2LST2MST2SST2SCMST2.prod5b-LaPalma-20deg-sq10-LL.N.D25-4LSTs09MSTs-MSTN.1800s.fits.gz\n",
      "No.    Name      Ver    Type      Cards   Dimensions   Format\n",
      "  0  PRIMARY       1 PrimaryHDU       9   ()      \n",
      "  1  EFFECTIVE AREA    1 BinTableHDU     37   1R x 5C   [42E, 42E, 6E, 6E, 252E]   \n",
      "  2  POINT SPREAD FUNCTION    1 BinTableHDU     55   1R x 10C   [21E, 21E, 6E, 6E, 126E, 126E, 126E, 126E, 126E, 126E]   \n",
      "  3  ENERGY DISPERSION    1 BinTableHDU     40   1R x 7C   [300E, 300E, 300E, 300E, 6E, 6E, 540000E]   \n",
      "  4  BACKGROUND    1 BinTableHDU     44   1R x 7C   [21E, 21E, 60E, 60E, 60E, 60E, 75600E]   \n"
     ]
    }
   ],
   "source": [
    "d25.info()"
   ]
  },
  {
   "cell_type": "code",
   "execution_count": 92,
   "id": "innovative-original",
   "metadata": {},
   "outputs": [
    {
     "data": {
      "text/plain": [
       "XTENSION= 'BINTABLE'           / binary table extension                         \n",
       "BITPIX  =                    8 / 8-bit bytes                                    \n",
       "NAXIS   =                    2 / 2-dimensional binary table                     \n",
       "NAXIS1  =                 1392 / width of table in bytes                        \n",
       "NAXIS2  =                    1 / number of rows in table                        \n",
       "PCOUNT  =                    0 / size of special data area                      \n",
       "GCOUNT  =                    1 / one data group (required keyword)              \n",
       "TFIELDS =                    5 / number of fields in each row                   \n",
       "TTYPE1  = 'ENERG_LO'           / label for field   1                            \n",
       "TFORM1  = '42E     '           / data format of field: 4-byte REAL              \n",
       "TUNIT1  = 'TeV     '           / physical unit of field                         \n",
       "TTYPE2  = 'ENERG_HI'           / label for field   2                            \n",
       "TFORM2  = '42E     '           / data format of field: 4-byte REAL              \n",
       "TUNIT2  = 'TeV     '           / physical unit of field                         \n",
       "TTYPE3  = 'THETA_LO'           / label for field   3                            \n",
       "TFORM3  = '6E      '           / data format of field: 4-byte REAL              \n",
       "TUNIT3  = 'deg     '           / physical unit of field                         \n",
       "TTYPE4  = 'THETA_HI'           / label for field   4                            \n",
       "TFORM4  = '6E      '           / data format of field: 4-byte REAL              \n",
       "TUNIT4  = 'deg     '           / physical unit of field                         \n",
       "TTYPE5  = 'EFFAREA '           / label for field   5                            \n",
       "TFORM5  = '252E    '           / data format of field: 4-byte REAL              \n",
       "TUNIT5  = 'm**2    '           / physical unit of field                         \n",
       "EXTNAME = 'EFFECTIVE AREA'     / name of this binary table extension            \n",
       "TDIM5   = '(42,6)  '           / size of the multidimensional array             \n",
       "TELESCOP= 'CTA     '           / Name of telescope                              \n",
       "INSTRUME= 'Southern Array'     / Instrument                                     \n",
       "AUTHOR  = 'G.Maier '           / Author                                         \n",
       "ORIGIN  = 'CTAO    '           / Origin                                         \n",
       "DATE    = '2021-07-29T12:50:08' / File creation date (YYYY-MM-DDThh:mm:ss UTC)  \n",
       "HDUDOC  = 'https://github.com/open-gamma-ray-astro/gamma-astro-data-formats'    \n",
       "HDUVERS = '0.2     '           / HDU version                                    \n",
       "HDUCLASS= 'GADF    '           / HDUCLASS                                       \n",
       "HDUCLAS1= 'RESPONSE'           / HDUCLAS1                                       \n",
       "HDUCLAS2= 'EFF_AREA'           / HDUCLAS2                                       \n",
       "HDUCLAS3= 'FULL-ENCLOSURE'     / HDUCLAS3                                       \n",
       "HDUCLAS4= 'AEFF_2D '           / HDUCLAS4                                       "
      ]
     },
     "execution_count": 92,
     "metadata": {},
     "output_type": "execute_result"
    }
   ],
   "source": [
    "og[1].header"
   ]
  },
  {
   "cell_type": "code",
   "execution_count": 93,
   "id": "wicked-universal",
   "metadata": {},
   "outputs": [
    {
     "data": {
      "text/plain": [
       "XTENSION= 'BINTABLE'           / binary table extension                         \n",
       "BITPIX  =                    8 / 8-bit bytes                                    \n",
       "NAXIS   =                    2 / 2-dimensional binary table                     \n",
       "NAXIS1  =                 1392 / width of table in bytes                        \n",
       "NAXIS2  =                    1 / number of rows in table                        \n",
       "PCOUNT  =                    0 / size of special data area                      \n",
       "GCOUNT  =                    1 / one data group (required keyword)              \n",
       "TFIELDS =                    5 / number of fields in each row                   \n",
       "TTYPE1  = 'ENERG_LO'           / label for field   1                            \n",
       "TFORM1  = '42E     '           / data format of field: 4-byte REAL              \n",
       "TUNIT1  = 'TeV     '           / physical unit of field                         \n",
       "TTYPE2  = 'ENERG_HI'           / label for field   2                            \n",
       "TFORM2  = '42E     '           / data format of field: 4-byte REAL              \n",
       "TUNIT2  = 'TeV     '           / physical unit of field                         \n",
       "TTYPE3  = 'THETA_LO'           / label for field   3                            \n",
       "TFORM3  = '6E      '           / data format of field: 4-byte REAL              \n",
       "TUNIT3  = 'deg     '           / physical unit of field                         \n",
       "TTYPE4  = 'THETA_HI'           / label for field   4                            \n",
       "TFORM4  = '6E      '           / data format of field: 4-byte REAL              \n",
       "TUNIT4  = 'deg     '           / physical unit of field                         \n",
       "TTYPE5  = 'EFFAREA '           / label for field   5                            \n",
       "TFORM5  = '252E    '           / data format of field: 4-byte REAL              \n",
       "TUNIT5  = 'm**2    '           / physical unit of field                         \n",
       "EXTNAME = 'EFFECTIVE AREA'     / name of this binary table extension            \n",
       "TDIM5   = '(42,6)  '           / size of the multidimensional array             \n",
       "TELESCOP= 'CTA     '           / Name of telescope                              \n",
       "INSTRUME= 'Southern Array'     / Instrument                                     \n",
       "AUTHOR  = 'G.Maier '           / Author                                         \n",
       "ORIGIN  = 'CTAO    '           / Origin                                         \n",
       "DATE    = '2021-08-16T07:20:36' / File creation date (YYYY-MM-DDThh:mm:ss UTC)  \n",
       "HDUDOC  = 'https://github.com/open-gamma-ray-astro/gamma-astro-data-formats'    \n",
       "HDUVERS = '0.2     '           / HDU version                                    \n",
       "HDUCLASS= 'GADF    '           / HDUCLASS                                       \n",
       "HDUCLAS1= 'RESPONSE'           / HDUCLAS1                                       \n",
       "HDUCLAS2= 'EFF_AREA'           / HDUCLAS2                                       \n",
       "HDUCLAS3= 'FULL-ENCLOSURE'     / HDUCLAS3                                       \n",
       "HDUCLAS4= 'AEFF_2D '           / HDUCLAS4                                       "
      ]
     },
     "execution_count": 93,
     "metadata": {},
     "output_type": "execute_result"
    }
   ],
   "source": [
    "d25[1].header"
   ]
  },
  {
   "cell_type": "markdown",
   "id": "bibliographic-magic",
   "metadata": {},
   "source": [
    "**NOTE:** These look ok, actually"
   ]
  },
  {
   "cell_type": "code",
   "execution_count": 97,
   "id": "instructional-choice",
   "metadata": {},
   "outputs": [],
   "source": [
    "s = \"cta-prod5b-D25_2/CTA-Performance-prod5bd25-v3-North-20deg-MSTN.1800s.fits.gz\""
   ]
  },
  {
   "cell_type": "code",
   "execution_count": 99,
   "id": "entitled-visiting",
   "metadata": {},
   "outputs": [
    {
     "data": {
      "text/plain": [
       "'CTA-Performance-prod5bd25-v3-North-20deg-MSTN.1800s.fits.gz'"
      ]
     },
     "execution_count": 99,
     "metadata": {},
     "output_type": "execute_result"
    }
   ],
   "source": [
    "s.split(\"/\")[-1]"
   ]
  },
  {
   "cell_type": "code",
   "execution_count": null,
   "id": "asian-surface",
   "metadata": {},
   "outputs": [],
   "source": []
  }
 ],
 "metadata": {
  "kernelspec": {
   "display_name": "fits",
   "language": "python",
   "name": "fits"
  },
  "language_info": {
   "codemirror_mode": {
    "name": "ipython",
    "version": 3
   },
   "file_extension": ".py",
   "mimetype": "text/x-python",
   "name": "python",
   "nbconvert_exporter": "python",
   "pygments_lexer": "ipython3",
   "version": "3.8.8"
  }
 },
 "nbformat": 4,
 "nbformat_minor": 5
}
