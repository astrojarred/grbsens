{
 "cells": [
  {
   "cell_type": "markdown",
   "metadata": {},
   "source": [
    "# Testing `grbsens`"
   ]
  },
  {
   "cell_type": "markdown",
   "metadata": {},
   "source": [
    "## imports"
   ]
  },
  {
   "cell_type": "code",
   "execution_count": 22,
   "metadata": {},
   "outputs": [],
   "source": [
    "import os\n",
    "import sys\n",
    "import numpy as np\n",
    "import pandas as pd\n",
    "\n",
    "import gammalib\n",
    "import ctools\n",
    "import cscripts"
   ]
  },
  {
   "cell_type": "code",
   "execution_count": 23,
   "metadata": {},
   "outputs": [],
   "source": [
    "sys.path.insert(0, '/astri01/data1/gershon/ctools_patricelli/')\n",
    "\n",
    "import grbsens.grb\n",
    "\n",
    "# options\n",
    "pd.set_option(\"display.max_columns\", None)"
   ]
  },
  {
   "cell_type": "markdown",
   "metadata": {},
   "source": [
    "## Import the `autoreload` extension"
   ]
  },
  {
   "cell_type": "markdown",
   "metadata": {},
   "source": [
    "- import the `autoreload` jupyter extension so that magic modules can be automatically updated before running functions\n",
    "- very useful for development"
   ]
  },
  {
   "cell_type": "code",
   "execution_count": 24,
   "metadata": {},
   "outputs": [
    {
     "name": "stdout",
     "output_type": "stream",
     "text": [
      "The autoreload extension is already loaded. To reload it, use:\n",
      "  %reload_ext autoreload\n"
     ]
    }
   ],
   "source": [
    "%load_ext autoreload\n",
    "#%reload_ext autoreload"
   ]
  },
  {
   "cell_type": "markdown",
   "metadata": {},
   "source": [
    "- set autoreload to \"2\" which will, according to the [iPy site](https://ipython.readthedocs.io/en/stable/config/extensions/autoreload.html):\n",
    "\n",
    "\"Reload all modules imported with `%aimport` every time before executing the Python code typed.\""
   ]
  },
  {
   "cell_type": "code",
   "execution_count": 25,
   "metadata": {},
   "outputs": [],
   "source": [
    "%autoreload 1"
   ]
  },
  {
   "cell_type": "markdown",
   "metadata": {},
   "source": [
    "- skip the following packages from being reloaded"
   ]
  },
  {
   "cell_type": "code",
   "execution_count": 26,
   "metadata": {},
   "outputs": [],
   "source": [
    "%aimport grbsens.grb"
   ]
  },
  {
   "cell_type": "markdown",
   "metadata": {},
   "source": [
    "- list the packages to import / skip"
   ]
  },
  {
   "cell_type": "code",
   "execution_count": 27,
   "metadata": {},
   "outputs": [
    {
     "name": "stdout",
     "output_type": "stream",
     "text": [
      "Modules to reload:\n",
      "grbsens.grb\n",
      "\n",
      "Modules to skip:\n",
      "\n"
     ]
    }
   ],
   "source": [
    "%aimport"
   ]
  },
  {
   "cell_type": "markdown",
   "metadata": {
    "pycharm": {
     "name": "#%% md\n"
    }
   },
   "source": [
    "## Add ctools info to paths\n",
    "```\n",
    "'CTOOLS': '/astri01/data1/gershon/anaconda3/envs/ctools'\n",
    "'GAMMALIB': '/astri01/data1/gershon/anaconda3/envs/ctools'\n",
    "'CALDB': '/astri01/data1/gershon/anaconda3/envs/ctools/share/caldb'\n",
    "```"
   ]
  },
  {
   "cell_type": "code",
   "execution_count": 32,
   "metadata": {},
   "outputs": [],
   "source": [
    "os.environ[\"CTOOLS\"] = \"/astri01/data1/gershon/anaconda3/envs/ctools\"\n",
    "os.environ[\"GAMMALIB\"] = \"/astri01/data1/gershon/anaconda3/envs/ctools\"\n",
    "os.environ[\"CALDB\"] = \"/astri01/data1/gershon/anaconda3/envs/ctools/share/caldb\""
   ]
  },
  {
   "cell_type": "markdown",
   "metadata": {},
   "source": [
    "# Testing a basic sensitivity run"
   ]
  },
  {
   "cell_type": "code",
   "execution_count": 33,
   "metadata": {},
   "outputs": [
    {
     "name": "stdout",
     "output_type": "stream",
     "text": [
      "Running from t0=0s to t1=4s for a total duration of t=4 with 4 time steps of dt=1s each\n"
     ]
    }
   ],
   "source": [
    "my_grb = grbsens.grb.grb(\n",
    "    input_model=\"grb.xml\", init_time=0, total_time=4, delta_t=1, num_jobs=None\n",
    ")"
   ]
  },
  {
   "cell_type": "code",
   "execution_count": 39,
   "metadata": {},
   "outputs": [
    {
     "name": "stdout",
     "output_type": "stream",
     "text": [
      "Running `cssens` for GRB for a duration of 1.0s\n",
      "Done with duration=1s\n",
      "\n",
      "Running `cssens` for GRB for a duration of 2.0s\n",
      "Done with duration=2s\n",
      "\n",
      "Running `cssens` for GRB for a duration of 3.0s\n",
      "Done with duration=3s\n",
      "\n",
      "Running `cssens` for GRB for a duration of 4.0s\n",
      "Done with duration=4s\n",
      "\n"
     ]
    }
   ],
   "source": [
    "my_grb.execute()"
   ]
  },
  {
   "cell_type": "code",
   "execution_count": null,
   "metadata": {},
   "outputs": [],
   "source": []
  }
 ],
 "metadata": {
  "kernelspec": {
   "display_name": "ctools",
   "language": "python",
   "name": "ctools"
  },
  "language_info": {
   "codemirror_mode": {
    "name": "ipython",
    "version": 3
   },
   "file_extension": ".py",
   "mimetype": "text/x-python",
   "name": "python",
   "nbconvert_exporter": "python",
   "pygments_lexer": "ipython3",
   "version": "3.6.10"
  },
  "toc-autonumbering": true
 },
 "nbformat": 4,
 "nbformat_minor": 4
}
