{
 "cells": [
  {
   "cell_type": "markdown",
   "metadata": {},
   "source": [
    "# Testing `grbsens`"
   ]
  },
  {
   "cell_type": "markdown",
   "metadata": {},
   "source": [
    "## imports"
   ]
  },
  {
   "cell_type": "code",
   "execution_count": 17,
   "metadata": {},
   "outputs": [],
   "source": [
    "import os\n",
    "import sys\n",
    "import numpy as np\n",
    "import pandas as pd\n",
    "\n",
    "import gammalib\n",
    "import ctools\n",
    "import cscripts"
   ]
  },
  {
   "cell_type": "code",
   "execution_count": 18,
   "metadata": {},
   "outputs": [],
   "source": [
    "sys.path.insert(0, \"/astri01/data1/gershon/ctools_patricelli/\")\n",
    "\n",
    "import grbsens.grb\n",
    "\n",
    "# options\n",
    "pd.set_option(\"display.max_columns\", None)"
   ]
  },
  {
   "cell_type": "markdown",
   "metadata": {},
   "source": [
    "## Import the `autoreload` extension"
   ]
  },
  {
   "cell_type": "markdown",
   "metadata": {},
   "source": [
    "- import the `autoreload` jupyter extension so that magic modules can be automatically updated before running functions\n",
    "- very useful for development"
   ]
  },
  {
   "cell_type": "code",
   "execution_count": 19,
   "metadata": {},
   "outputs": [
    {
     "name": "stdout",
     "output_type": "stream",
     "text": [
      "The autoreload extension is already loaded. To reload it, use:\n",
      "  %reload_ext autoreload\n"
     ]
    }
   ],
   "source": [
    "%load_ext autoreload\n",
    "#%reload_ext autoreload"
   ]
  },
  {
   "cell_type": "markdown",
   "metadata": {},
   "source": [
    "- set autoreload to \"2\" which will, according to the [iPy site](https://ipython.readthedocs.io/en/stable/config/extensions/autoreload.html):\n",
    "\n",
    "\"Reload all modules imported with `%aimport` every time before executing the Python code typed.\""
   ]
  },
  {
   "cell_type": "code",
   "execution_count": 20,
   "metadata": {},
   "outputs": [],
   "source": [
    "%autoreload 1"
   ]
  },
  {
   "cell_type": "markdown",
   "metadata": {},
   "source": [
    "- skip the following packages from being reloaded"
   ]
  },
  {
   "cell_type": "code",
   "execution_count": 21,
   "metadata": {},
   "outputs": [],
   "source": [
    "%aimport grbsens.grb"
   ]
  },
  {
   "cell_type": "markdown",
   "metadata": {},
   "source": [
    "- list the packages to import / skip"
   ]
  },
  {
   "cell_type": "code",
   "execution_count": 22,
   "metadata": {},
   "outputs": [
    {
     "name": "stdout",
     "output_type": "stream",
     "text": [
      "Modules to reload:\n",
      "grbsens.grb\n",
      "\n",
      "Modules to skip:\n",
      "\n"
     ]
    }
   ],
   "source": [
    "%aimport"
   ]
  },
  {
   "cell_type": "markdown",
   "metadata": {
    "pycharm": {
     "name": "#%% md\n"
    }
   },
   "source": [
    "## Add ctools info to paths\n",
    "```\n",
    "'CTOOLS': '/astri01/data1/gershon/anaconda3/envs/ctools'\n",
    "'GAMMALIB': '/astri01/data1/gershon/anaconda3/envs/ctools'\n",
    "'CALDB': '/astri01/data1/gershon/anaconda3/envs/ctools/share/caldb'\n",
    "```"
   ]
  },
  {
   "cell_type": "code",
   "execution_count": null,
   "metadata": {},
   "outputs": [],
   "source": [
    "os.environ[\"CTOOLS\"] = \"/astri01/data1/gershon/anaconda3/envs/ctools\"\n",
    "os.environ[\"GAMMALIB\"] = \"/astri01/data1/gershon/anaconda3/envs/ctools\"\n",
    "os.environ[\"CALDB\"] = \"/astri01/data1/gershon/anaconda3/envs/ctools/share/caldb\""
   ]
  },
  {
   "cell_type": "markdown",
   "metadata": {},
   "source": [
    "# Testing a basic sensitivity run"
   ]
  },
  {
   "cell_type": "code",
   "execution_count": 8,
   "metadata": {},
   "outputs": [
    {
     "name": "stdout",
     "output_type": "stream",
     "text": [
      "Running from t0=0s to t1=4s for a total duration of t=4 with time steps of dt=1s each\n"
     ]
    }
   ],
   "source": [
    "# initialize class\n",
    "input_model_path = \"/astri01/data1/gershon/ctools_patricelli/notebooks/grb.xml\"\n",
    "my_grb = grbsens.grb.grb(\n",
    "    input_model=input_model_path, init_time=0, total_time=4, delta_t=1\n",
    ")"
   ]
  },
  {
   "cell_type": "code",
   "execution_count": 9,
   "metadata": {
    "collapsed": false,
    "jupyter": {
     "outputs_hidden": false
    },
    "pycharm": {
     "name": "#%%\n"
    }
   },
   "outputs": [
    {
     "name": "stdout",
     "output_type": "stream",
     "text": [
      "Running `cssens` job #0 for GRB for a duration of 1.0s\n",
      "Done with duration=1s\n",
      "\n",
      "Running `cssens` job #1 for GRB for a duration of 2.0s\n",
      "Done with duration=2s\n",
      "\n",
      "Running `cssens` job #2 for GRB for a duration of 3.0s\n",
      "Done with duration=3s\n",
      "\n",
      "Running `cssens` job #3 for GRB for a duration of 4.0s\n",
      "Done with duration=4s\n",
      "\n"
     ]
    }
   ],
   "source": [
    "# execute grbsens, skip actual running\n",
    "output_directory = \"/astri01/data1/gershon/ctools_patricelli/notebooks\"\n",
    "my_grb.execute(write_to_file=False, cwd=output_directory, load_results=True)"
   ]
  },
  {
   "cell_type": "code",
   "execution_count": 10,
   "metadata": {},
   "outputs": [
    {
     "data": {
      "text/html": [
       "<div>\n",
       "<style scoped>\n",
       "    .dataframe tbody tr th:only-of-type {\n",
       "        vertical-align: middle;\n",
       "    }\n",
       "\n",
       "    .dataframe tbody tr th {\n",
       "        vertical-align: top;\n",
       "    }\n",
       "\n",
       "    .dataframe thead th {\n",
       "        text-align: right;\n",
       "    }\n",
       "</style>\n",
       "<table border=\"1\" class=\"dataframe\">\n",
       "  <thead>\n",
       "    <tr style=\"text-align: right;\">\n",
       "      <th></th>\n",
       "      <th>loge</th>\n",
       "      <th>emin</th>\n",
       "      <th>emax</th>\n",
       "      <th>crab_flux</th>\n",
       "      <th>photon_flux</th>\n",
       "      <th>energy_flux</th>\n",
       "      <th>sensitivity</th>\n",
       "      <th>regcoeff</th>\n",
       "      <th>nevents</th>\n",
       "      <th>npred</th>\n",
       "      <th>duration</th>\n",
       "      <th>output_file</th>\n",
       "      <th>log_file</th>\n",
       "    </tr>\n",
       "    <tr>\n",
       "      <th>job_number</th>\n",
       "      <th></th>\n",
       "      <th></th>\n",
       "      <th></th>\n",
       "      <th></th>\n",
       "      <th></th>\n",
       "      <th></th>\n",
       "      <th></th>\n",
       "      <th></th>\n",
       "      <th></th>\n",
       "      <th></th>\n",
       "      <th></th>\n",
       "      <th></th>\n",
       "      <th></th>\n",
       "    </tr>\n",
       "  </thead>\n",
       "  <tbody>\n",
       "    <tr>\n",
       "      <th>0</th>\n",
       "      <td>-0.261439</td>\n",
       "      <td>0.03</td>\n",
       "      <td>10.0</td>\n",
       "      <td>2.084710</td>\n",
       "      <td>7.272769e-09</td>\n",
       "      <td>1.697115e-09</td>\n",
       "      <td>2.880777e-10</td>\n",
       "      <td>0.995410</td>\n",
       "      <td>23.0</td>\n",
       "      <td>22.979056</td>\n",
       "      <td>1.0</td>\n",
       "      <td>/astri01/data1/gershon/ctools_patricelli/noteb...</td>\n",
       "      <td>/astri01/data1/gershon/ctools_patricelli/noteb...</td>\n",
       "    </tr>\n",
       "    <tr>\n",
       "      <th>1</th>\n",
       "      <td>-0.261439</td>\n",
       "      <td>0.03</td>\n",
       "      <td>10.0</td>\n",
       "      <td>0.899085</td>\n",
       "      <td>3.136569e-09</td>\n",
       "      <td>7.319243e-10</td>\n",
       "      <td>1.242409e-10</td>\n",
       "      <td>0.977380</td>\n",
       "      <td>30.0</td>\n",
       "      <td>29.998423</td>\n",
       "      <td>2.0</td>\n",
       "      <td>/astri01/data1/gershon/ctools_patricelli/noteb...</td>\n",
       "      <td>/astri01/data1/gershon/ctools_patricelli/noteb...</td>\n",
       "    </tr>\n",
       "    <tr>\n",
       "      <th>2</th>\n",
       "      <td>-0.261439</td>\n",
       "      <td>0.03</td>\n",
       "      <td>10.0</td>\n",
       "      <td>0.662850</td>\n",
       "      <td>2.312434e-09</td>\n",
       "      <td>5.396109e-10</td>\n",
       "      <td>9.159655e-11</td>\n",
       "      <td>0.931974</td>\n",
       "      <td>62.0</td>\n",
       "      <td>61.982471</td>\n",
       "      <td>3.0</td>\n",
       "      <td>/astri01/data1/gershon/ctools_patricelli/noteb...</td>\n",
       "      <td>/astri01/data1/gershon/ctools_patricelli/noteb...</td>\n",
       "    </tr>\n",
       "    <tr>\n",
       "      <th>3</th>\n",
       "      <td>-0.261439</td>\n",
       "      <td>0.03</td>\n",
       "      <td>10.0</td>\n",
       "      <td>0.529761</td>\n",
       "      <td>1.848138e-09</td>\n",
       "      <td>4.312665e-10</td>\n",
       "      <td>7.320557e-11</td>\n",
       "      <td>0.735037</td>\n",
       "      <td>65.0</td>\n",
       "      <td>64.999965</td>\n",
       "      <td>4.0</td>\n",
       "      <td>/astri01/data1/gershon/ctools_patricelli/noteb...</td>\n",
       "      <td>/astri01/data1/gershon/ctools_patricelli/noteb...</td>\n",
       "    </tr>\n",
       "  </tbody>\n",
       "</table>\n",
       "</div>"
      ],
      "text/plain": [
       "                loge  emin  emax  crab_flux   photon_flux   energy_flux  \\\n",
       "job_number                                                                \n",
       "0          -0.261439  0.03  10.0   2.084710  7.272769e-09  1.697115e-09   \n",
       "1          -0.261439  0.03  10.0   0.899085  3.136569e-09  7.319243e-10   \n",
       "2          -0.261439  0.03  10.0   0.662850  2.312434e-09  5.396109e-10   \n",
       "3          -0.261439  0.03  10.0   0.529761  1.848138e-09  4.312665e-10   \n",
       "\n",
       "             sensitivity  regcoeff  nevents      npred  duration  \\\n",
       "job_number                                                         \n",
       "0           2.880777e-10  0.995410     23.0  22.979056       1.0   \n",
       "1           1.242409e-10  0.977380     30.0  29.998423       2.0   \n",
       "2           9.159655e-11  0.931974     62.0  61.982471       3.0   \n",
       "3           7.320557e-11  0.735037     65.0  64.999965       4.0   \n",
       "\n",
       "                                                  output_file  \\\n",
       "job_number                                                      \n",
       "0           /astri01/data1/gershon/ctools_patricelli/noteb...   \n",
       "1           /astri01/data1/gershon/ctools_patricelli/noteb...   \n",
       "2           /astri01/data1/gershon/ctools_patricelli/noteb...   \n",
       "3           /astri01/data1/gershon/ctools_patricelli/noteb...   \n",
       "\n",
       "                                                     log_file  \n",
       "job_number                                                     \n",
       "0           /astri01/data1/gershon/ctools_patricelli/noteb...  \n",
       "1           /astri01/data1/gershon/ctools_patricelli/noteb...  \n",
       "2           /astri01/data1/gershon/ctools_patricelli/noteb...  \n",
       "3           /astri01/data1/gershon/ctools_patricelli/noteb...  "
      ]
     },
     "execution_count": 10,
     "metadata": {},
     "output_type": "execute_result"
    }
   ],
   "source": [
    "my_grb.output"
   ]
  },
  {
   "cell_type": "markdown",
   "metadata": {
    "pycharm": {
     "name": "#%% md\n"
    }
   },
   "source": [
    "## Custom time steps\n"
   ]
  },
  {
   "cell_type": "code",
   "execution_count": 11,
   "metadata": {},
   "outputs": [
    {
     "name": "stdout",
     "output_type": "stream",
     "text": [
      "Add time frames with custom time steps using `grb.add_timeframe(start, stop, time_step)` in seconds.\n"
     ]
    }
   ],
   "source": [
    "# initialize class\n",
    "input_model_path = \"/astri01/data1/gershon/ctools_patricelli/notebooks/grb.xml\"\n",
    "my_grb = grbsens.grb.grb(input_model=input_model_path, delta_t=\"custom\")"
   ]
  },
  {
   "cell_type": "code",
   "execution_count": 12,
   "metadata": {},
   "outputs": [
    {
     "name": "stdout",
     "output_type": "stream",
     "text": [
      "Added time frame #0 from 0s to 4s with time step 1s.\n"
     ]
    }
   ],
   "source": [
    "my_grb.add_timeframe(start=0,    stop=4,    time_step=1  )"
   ]
  },
  {
   "cell_type": "code",
   "execution_count": 13,
   "metadata": {
    "collapsed": false,
    "jupyter": {
     "outputs_hidden": false
    },
    "pycharm": {
     "name": "#%%\n"
    }
   },
   "outputs": [
    {
     "name": "stdout",
     "output_type": "stream",
     "text": [
      "Running `cssens` job #0 for GRB for a duration of 1.0s\n",
      "Done with duration=1.0s\n",
      "\n",
      "Running `cssens` job #1 for GRB for a duration of 2.0s\n",
      "Done with duration=2.0s\n",
      "\n",
      "Running `cssens` job #2 for GRB for a duration of 3.0s\n",
      "Done with duration=3.0s\n",
      "\n",
      "Running `cssens` job #3 for GRB for a duration of 4.0s\n",
      "Done with duration=4.0s\n",
      "\n"
     ]
    }
   ],
   "source": [
    "# execute grbsens, skip actual running\n",
    "output_directory = \"/astri01/data1/gershon/ctools_patricelli/notebooks\"\n",
    "my_grb.execute(write_to_file=False, cwd=output_directory, load_results=True)"
   ]
  },
  {
   "cell_type": "markdown",
   "metadata": {
    "pycharm": {
     "name": "#%% md\n"
    }
   },
   "source": [
    "# parallel processing\n"
   ]
  },
  {
   "cell_type": "markdown",
   "metadata": {},
   "source": [
    "## Import `multiprocessing`"
   ]
  },
  {
   "cell_type": "code",
   "execution_count": 23,
   "metadata": {},
   "outputs": [],
   "source": [
    "import multiprocessing as mp"
   ]
  },
  {
   "cell_type": "code",
   "execution_count": 24,
   "metadata": {},
   "outputs": [
    {
     "name": "stdout",
     "output_type": "stream",
     "text": [
      "Number of processors:  64\n"
     ]
    }
   ],
   "source": [
    "print(\"Number of processors: \", mp.cpu_count())"
   ]
  },
  {
   "cell_type": "markdown",
   "metadata": {},
   "source": [
    "## Test"
   ]
  },
  {
   "cell_type": "code",
   "execution_count": 68,
   "metadata": {},
   "outputs": [
    {
     "name": "stdout",
     "output_type": "stream",
     "text": [
      "Running from t0=1.0s to t1=6.0s for a total duration of t=5 with time steps of dt=1s each\n"
     ]
    }
   ],
   "source": [
    "grb_parallel = grbsens.grb.grb(input_model=input_model_path, total_time=5, delta_t=1)"
   ]
  },
  {
   "cell_type": "code",
   "execution_count": null,
   "metadata": {},
   "outputs": [],
   "source": [
    "grb_parallel.execute(write_to_file=False, cwd=output_directory, parallel=True, ncores=10)"
   ]
  },
  {
   "cell_type": "code",
   "execution_count": 84,
   "metadata": {},
   "outputs": [
    {
     "data": {
      "text/html": [
       "<div>\n",
       "<style scoped>\n",
       "    .dataframe tbody tr th:only-of-type {\n",
       "        vertical-align: middle;\n",
       "    }\n",
       "\n",
       "    .dataframe tbody tr th {\n",
       "        vertical-align: top;\n",
       "    }\n",
       "\n",
       "    .dataframe thead th {\n",
       "        text-align: right;\n",
       "    }\n",
       "</style>\n",
       "<table border=\"1\" class=\"dataframe\">\n",
       "  <thead>\n",
       "    <tr style=\"text-align: right;\">\n",
       "      <th></th>\n",
       "      <th>loge</th>\n",
       "      <th>emin</th>\n",
       "      <th>emax</th>\n",
       "      <th>crab_flux</th>\n",
       "      <th>photon_flux</th>\n",
       "      <th>energy_flux</th>\n",
       "      <th>sensitivity</th>\n",
       "      <th>regcoeff</th>\n",
       "      <th>nevents</th>\n",
       "      <th>npred</th>\n",
       "      <th>duration</th>\n",
       "      <th>output_file</th>\n",
       "      <th>log_file</th>\n",
       "    </tr>\n",
       "    <tr>\n",
       "      <th>job_number</th>\n",
       "      <th></th>\n",
       "      <th></th>\n",
       "      <th></th>\n",
       "      <th></th>\n",
       "      <th></th>\n",
       "      <th></th>\n",
       "      <th></th>\n",
       "      <th></th>\n",
       "      <th></th>\n",
       "      <th></th>\n",
       "      <th></th>\n",
       "      <th></th>\n",
       "      <th></th>\n",
       "    </tr>\n",
       "  </thead>\n",
       "  <tbody>\n",
       "    <tr>\n",
       "      <th>0</th>\n",
       "      <td>-0.261439</td>\n",
       "      <td>0.03</td>\n",
       "      <td>10.0</td>\n",
       "      <td>0.899085</td>\n",
       "      <td>3.136569e-09</td>\n",
       "      <td>7.319243e-10</td>\n",
       "      <td>1.242409e-10</td>\n",
       "      <td>0.977380</td>\n",
       "      <td>30.0</td>\n",
       "      <td>29.998423</td>\n",
       "      <td>2.0</td>\n",
       "      <td>/astri01/data1/gershon/ctools_patricelli/noteb...</td>\n",
       "      <td>/astri01/data1/gershon/ctools_patricelli/noteb...</td>\n",
       "    </tr>\n",
       "    <tr>\n",
       "      <th>1</th>\n",
       "      <td>-0.261439</td>\n",
       "      <td>0.03</td>\n",
       "      <td>10.0</td>\n",
       "      <td>0.662850</td>\n",
       "      <td>2.312434e-09</td>\n",
       "      <td>5.396109e-10</td>\n",
       "      <td>9.159655e-11</td>\n",
       "      <td>0.931974</td>\n",
       "      <td>62.0</td>\n",
       "      <td>61.982471</td>\n",
       "      <td>3.0</td>\n",
       "      <td>/astri01/data1/gershon/ctools_patricelli/noteb...</td>\n",
       "      <td>/astri01/data1/gershon/ctools_patricelli/noteb...</td>\n",
       "    </tr>\n",
       "    <tr>\n",
       "      <th>2</th>\n",
       "      <td>-0.261439</td>\n",
       "      <td>0.03</td>\n",
       "      <td>10.0</td>\n",
       "      <td>0.529761</td>\n",
       "      <td>1.848138e-09</td>\n",
       "      <td>4.312665e-10</td>\n",
       "      <td>7.320557e-11</td>\n",
       "      <td>0.735037</td>\n",
       "      <td>65.0</td>\n",
       "      <td>64.999965</td>\n",
       "      <td>4.0</td>\n",
       "      <td>/astri01/data1/gershon/ctools_patricelli/noteb...</td>\n",
       "      <td>/astri01/data1/gershon/ctools_patricelli/noteb...</td>\n",
       "    </tr>\n",
       "    <tr>\n",
       "      <th>3</th>\n",
       "      <td>-0.261439</td>\n",
       "      <td>0.03</td>\n",
       "      <td>10.0</td>\n",
       "      <td>0.493467</td>\n",
       "      <td>1.721522e-09</td>\n",
       "      <td>4.017205e-10</td>\n",
       "      <td>6.819027e-11</td>\n",
       "      <td>0.911800</td>\n",
       "      <td>101.0</td>\n",
       "      <td>100.994931</td>\n",
       "      <td>5.0</td>\n",
       "      <td>/astri01/data1/gershon/ctools_patricelli/noteb...</td>\n",
       "      <td>/astri01/data1/gershon/ctools_patricelli/noteb...</td>\n",
       "    </tr>\n",
       "    <tr>\n",
       "      <th>4</th>\n",
       "      <td>-0.261439</td>\n",
       "      <td>0.03</td>\n",
       "      <td>10.0</td>\n",
       "      <td>0.462186</td>\n",
       "      <td>1.612392e-09</td>\n",
       "      <td>3.762548e-10</td>\n",
       "      <td>6.386759e-11</td>\n",
       "      <td>0.713828</td>\n",
       "      <td>110.0</td>\n",
       "      <td>109.999934</td>\n",
       "      <td>6.0</td>\n",
       "      <td>/astri01/data1/gershon/ctools_patricelli/noteb...</td>\n",
       "      <td>/astri01/data1/gershon/ctools_patricelli/noteb...</td>\n",
       "    </tr>\n",
       "  </tbody>\n",
       "</table>\n",
       "</div>"
      ],
      "text/plain": [
       "                loge  emin  emax  crab_flux   photon_flux   energy_flux  \\\n",
       "job_number                                                                \n",
       "0          -0.261439  0.03  10.0   0.899085  3.136569e-09  7.319243e-10   \n",
       "1          -0.261439  0.03  10.0   0.662850  2.312434e-09  5.396109e-10   \n",
       "2          -0.261439  0.03  10.0   0.529761  1.848138e-09  4.312665e-10   \n",
       "3          -0.261439  0.03  10.0   0.493467  1.721522e-09  4.017205e-10   \n",
       "4          -0.261439  0.03  10.0   0.462186  1.612392e-09  3.762548e-10   \n",
       "\n",
       "             sensitivity  regcoeff  nevents       npred  duration  \\\n",
       "job_number                                                          \n",
       "0           1.242409e-10  0.977380     30.0   29.998423       2.0   \n",
       "1           9.159655e-11  0.931974     62.0   61.982471       3.0   \n",
       "2           7.320557e-11  0.735037     65.0   64.999965       4.0   \n",
       "3           6.819027e-11  0.911800    101.0  100.994931       5.0   \n",
       "4           6.386759e-11  0.713828    110.0  109.999934       6.0   \n",
       "\n",
       "                                                  output_file  \\\n",
       "job_number                                                      \n",
       "0           /astri01/data1/gershon/ctools_patricelli/noteb...   \n",
       "1           /astri01/data1/gershon/ctools_patricelli/noteb...   \n",
       "2           /astri01/data1/gershon/ctools_patricelli/noteb...   \n",
       "3           /astri01/data1/gershon/ctools_patricelli/noteb...   \n",
       "4           /astri01/data1/gershon/ctools_patricelli/noteb...   \n",
       "\n",
       "                                                     log_file  \n",
       "job_number                                                     \n",
       "0           /astri01/data1/gershon/ctools_patricelli/noteb...  \n",
       "1           /astri01/data1/gershon/ctools_patricelli/noteb...  \n",
       "2           /astri01/data1/gershon/ctools_patricelli/noteb...  \n",
       "3           /astri01/data1/gershon/ctools_patricelli/noteb...  \n",
       "4           /astri01/data1/gershon/ctools_patricelli/noteb...  "
      ]
     },
     "execution_count": 84,
     "metadata": {},
     "output_type": "execute_result"
    }
   ],
   "source": [
    "grb_parallel.output"
   ]
  },
  {
   "cell_type": "markdown",
   "metadata": {},
   "source": [
    "# estimating runtime with Jupyter's `%time`"
   ]
  },
  {
   "cell_type": "markdown",
   "metadata": {},
   "source": [
    "## $1s$  integration"
   ]
  },
  {
   "cell_type": "code",
   "execution_count": 249,
   "metadata": {},
   "outputs": [
    {
     "name": "stdout",
     "output_type": "stream",
     "text": [
      "Running from t0=0s to t1=1s for a total duration of t=1 with time steps of dt=1s each\n",
      "Time array: [1]\n"
     ]
    }
   ],
   "source": [
    "my_grb_1 = grbsens.grb.grb(\n",
    "    input_model=input_model_path, init_time=0, total_time=1, delta_t=1\n",
    ")\n",
    "\n",
    "print(f\"Time array: {my_grb_1.times}\")"
   ]
  },
  {
   "cell_type": "code",
   "execution_count": 281,
   "metadata": {},
   "outputs": [
    {
     "name": "stdout",
     "output_type": "stream",
     "text": [
      "Running `cssens` job #0 for GRB for a duration of 1.0s\n",
      "Running with 20 cores.\n",
      "Done with duration=1s\n",
      "\n",
      "CPU times: user 2min 9s, sys: 256 ms, total: 2min 9s\n",
      "Wall time: 2min 9s\n"
     ]
    }
   ],
   "source": [
    "%time my_grb_1.execute(write_to_file=False, cwd=output_directory, nthreads=20)"
   ]
  },
  {
   "cell_type": "code",
   "execution_count": 272,
   "metadata": {},
   "outputs": [
    {
     "name": "stdout",
     "output_type": "stream",
     "text": [
      "Running `cssens` job #0 for GRB for a duration of 1.0s\n",
      "Done with duration=1s\n",
      "\n",
      "Running `cssens` job #0 for GRB for a duration of 1.0s\n",
      "Done with duration=1s\n",
      "\n",
      "Running `cssens` job #0 for GRB for a duration of 1.0s\n",
      "Done with duration=1s\n",
      "\n",
      "Running `cssens` job #0 for GRB for a duration of 1.0s\n",
      "Done with duration=1s\n",
      "\n",
      "Running `cssens` job #0 for GRB for a duration of 1.0s\n",
      "Done with duration=1s\n",
      "\n",
      "Running `cssens` job #0 for GRB for a duration of 1.0s\n",
      "Done with duration=1s\n",
      "\n",
      "Running `cssens` job #0 for GRB for a duration of 1.0s\n",
      "Done with duration=1s\n",
      "\n",
      "Running `cssens` job #0 for GRB for a duration of 1.0s\n",
      "Done with duration=1s\n",
      "\n",
      "Running `cssens` job #0 for GRB for a duration of 1.0s\n",
      "Done with duration=1s\n",
      "\n",
      "2min 9s ± 36.4 ms per loop (mean ± std. dev. of 3 runs, 3 loops each)\n"
     ]
    }
   ],
   "source": [
    "%timeit -n 3 -r 3 my_grb_1.execute(write_to_file=False, cwd=output_directory)"
   ]
  },
  {
   "cell_type": "markdown",
   "metadata": {},
   "source": [
    "## $10s$  integration"
   ]
  },
  {
   "cell_type": "code",
   "execution_count": 252,
   "metadata": {},
   "outputs": [
    {
     "name": "stdout",
     "output_type": "stream",
     "text": [
      "Running from t0=0s to t1=10s for a total duration of t=10 with time steps of dt=10s each\n",
      "Time array: [10]\n"
     ]
    }
   ],
   "source": [
    "my_grb_10 = grbsens.grb.grb(\n",
    "    input_model=input_model_path, init_time=0, total_time=10, delta_t=10\n",
    ")\n",
    "\n",
    "print(f\"Time array: {my_grb_10.times}\")"
   ]
  },
  {
   "cell_type": "code",
   "execution_count": 253,
   "metadata": {},
   "outputs": [
    {
     "name": "stdout",
     "output_type": "stream",
     "text": [
      "Running `cssens` job #0 for GRB for a duration of 10.0s\n",
      "Done with duration=10s\n",
      "\n",
      "CPU times: user 12min 11s, sys: 11.8 s, total: 12min 22s\n",
      "Wall time: 12min 21s\n"
     ]
    }
   ],
   "source": [
    "%time my_grb_10.execute(write_to_file=False, cwd=output_directory)"
   ]
  },
  {
   "cell_type": "code",
   "execution_count": 274,
   "metadata": {},
   "outputs": [
    {
     "name": "stdout",
     "output_type": "stream",
     "text": [
      "Running `cssens` job #0 for GRB for a duration of 10.0s\n",
      "Done with duration=10s\n",
      "\n",
      "Running `cssens` job #0 for GRB for a duration of 10.0s\n",
      "Done with duration=10s\n",
      "\n",
      "Running `cssens` job #0 for GRB for a duration of 10.0s\n",
      "Done with duration=10s\n",
      "\n",
      "Running `cssens` job #0 for GRB for a duration of 10.0s\n",
      "Done with duration=10s\n",
      "\n",
      "Running `cssens` job #0 for GRB for a duration of 10.0s\n",
      "Done with duration=10s\n",
      "\n",
      "Running `cssens` job #0 for GRB for a duration of 10.0s\n",
      "Done with duration=10s\n",
      "\n",
      "Running `cssens` job #0 for GRB for a duration of 10.0s\n",
      "Done with duration=10s\n",
      "\n",
      "Running `cssens` job #0 for GRB for a duration of 10.0s\n",
      "Done with duration=10s\n",
      "\n",
      "Running `cssens` job #0 for GRB for a duration of 10.0s\n",
      "Done with duration=10s\n",
      "\n",
      "12min 12s ± 818 ms per loop (mean ± std. dev. of 3 runs, 3 loops each)\n"
     ]
    }
   ],
   "source": [
    "%timeit -n 3 -r 3 my_grb_10.execute(write_to_file=False, cwd=output_directory)"
   ]
  },
  {
   "cell_type": "markdown",
   "metadata": {},
   "source": [
    "### Test some durations around 10s"
   ]
  },
  {
   "cell_type": "code",
   "execution_count": 352,
   "metadata": {},
   "outputs": [
    {
     "name": "stdout",
     "output_type": "stream",
     "text": [
      "Add time frames with custom time steps using `grb.add_timeframe(start, stop, time_step)` in seconds.\n"
     ]
    }
   ],
   "source": [
    "my_grb_10_test = grbsens.grb.grb(\n",
    "    input_model=input_model_path, delta_t=\"custom\"\n",
    ")"
   ]
  },
  {
   "cell_type": "code",
   "execution_count": 353,
   "metadata": {},
   "outputs": [
    {
     "name": "stdout",
     "output_type": "stream",
     "text": [
      "Added time frame #0 from 0s to 9s with time step 1s.\n"
     ]
    }
   ],
   "source": [
    "my_grb_10_test.add_timeframe(0, 9, 1)"
   ]
  },
  {
   "cell_type": "code",
   "execution_count": 355,
   "metadata": {},
   "outputs": [
    {
     "name": "stdout",
     "output_type": "stream",
     "text": [
      "Running `cssens` job #0 for GRB for a duration of 1.0s\n",
      "Running with 0 cores.\n",
      "Done with duration=1.0s\n",
      "\n",
      "Running `cssens` job #1 for GRB for a duration of 2.0s\n",
      "Running with 0 cores.\n",
      "Done with duration=2.0s\n",
      "\n",
      "Running `cssens` job #2 for GRB for a duration of 3.0s\n",
      "Running with 0 cores.\n",
      "Done with duration=3.0s\n",
      "\n",
      "Running `cssens` job #3 for GRB for a duration of 4.0s\n",
      "Running with 0 cores.\n",
      "Done with duration=4.0s\n",
      "\n",
      "Running `cssens` job #4 for GRB for a duration of 5.0s\n",
      "Running with 0 cores.\n",
      "Done with duration=5.0s\n",
      "\n",
      "Running `cssens` job #5 for GRB for a duration of 6.0s\n",
      "Running with 0 cores.\n",
      "Done with duration=6.0s\n",
      "\n",
      "Running `cssens` job #6 for GRB for a duration of 7.0s\n",
      "Running with 0 cores.\n",
      "Done with duration=7.0s\n",
      "\n",
      "Running `cssens` job #7 for GRB for a duration of 8.0s\n",
      "Running with 0 cores.\n",
      "Done with duration=8.0s\n",
      "\n",
      "Running `cssens` job #8 for GRB for a duration of 9.0s\n",
      "Running with 0 cores.\n",
      "Done with duration=9.0s\n",
      "\n"
     ]
    }
   ],
   "source": [
    "my_grb_10_test.execute(write_to_file=False, cwd=output_directory)"
   ]
  },
  {
   "cell_type": "code",
   "execution_count": 357,
   "metadata": {},
   "outputs": [
    {
     "name": "stdout",
     "output_type": "stream",
     "text": [
      "ter 131 wall clo\n",
      "ter 109 wall clo\n",
      "fter 73 wall clo\n",
      "ter 110 wall clo\n",
      "fter 92 wall clo\n",
      "fter 74 wall clo\n",
      "fter 73 wall clo\n",
      "fter 92 wall clo\n",
      "ter 110 wall clo\n"
     ]
    }
   ],
   "source": [
    "for f in my_grb_10_test.output.log_file:\n",
    "    with open(f) as file:\n",
    "        text = file.read()\n",
    "        print(text.split(\"\\n\")[-2][-66:-50])"
   ]
  },
  {
   "cell_type": "markdown",
   "metadata": {},
   "source": [
    "## $100s$  integration"
   ]
  },
  {
   "cell_type": "code",
   "execution_count": 254,
   "metadata": {},
   "outputs": [
    {
     "name": "stdout",
     "output_type": "stream",
     "text": [
      "Running from t0=0s to t1=100s for a total duration of t=100 with time steps of dt=100s each\n",
      "Time array: [100]\n"
     ]
    }
   ],
   "source": [
    "my_grb_100 = grbsens.grb.grb(\n",
    "    input_model=input_model_path, init_time=0, total_time=100, delta_t=100\n",
    ")\n",
    "\n",
    "print(f\"Time array: {my_grb_100.times}\")"
   ]
  },
  {
   "cell_type": "code",
   "execution_count": 255,
   "metadata": {},
   "outputs": [
    {
     "name": "stdout",
     "output_type": "stream",
     "text": [
      "Running `cssens` job #0 for GRB for a duration of 100.0s\n",
      "Done with duration=100s\n",
      "\n",
      "CPU times: user 1min 12s, sys: 380 ms, total: 1min 12s\n",
      "Wall time: 1min 12s\n"
     ]
    }
   ],
   "source": [
    "%time my_grb_100.execute(write_to_file=False, cwd=output_directory)"
   ]
  },
  {
   "cell_type": "code",
   "execution_count": 275,
   "metadata": {},
   "outputs": [
    {
     "name": "stdout",
     "output_type": "stream",
     "text": [
      "Running `cssens` job #0 for GRB for a duration of 100.0s\n",
      "Done with duration=100s\n",
      "\n",
      "Running `cssens` job #0 for GRB for a duration of 100.0s\n",
      "Done with duration=100s\n",
      "\n",
      "Running `cssens` job #0 for GRB for a duration of 100.0s\n",
      "Done with duration=100s\n",
      "\n",
      "Running `cssens` job #0 for GRB for a duration of 100.0s\n",
      "Done with duration=100s\n",
      "\n",
      "Running `cssens` job #0 for GRB for a duration of 100.0s\n",
      "Done with duration=100s\n",
      "\n",
      "Running `cssens` job #0 for GRB for a duration of 100.0s\n",
      "Done with duration=100s\n",
      "\n",
      "Running `cssens` job #0 for GRB for a duration of 100.0s\n",
      "Done with duration=100s\n",
      "\n",
      "Running `cssens` job #0 for GRB for a duration of 100.0s\n",
      "Done with duration=100s\n",
      "\n",
      "Running `cssens` job #0 for GRB for a duration of 100.0s\n",
      "Done with duration=100s\n",
      "\n",
      "1min 12s ± 60.5 ms per loop (mean ± std. dev. of 3 runs, 3 loops each)\n"
     ]
    }
   ],
   "source": [
    "%timeit -n 3 -r 3 my_grb_100.execute(write_to_file=False, cwd=output_directory)"
   ]
  },
  {
   "cell_type": "markdown",
   "metadata": {},
   "source": [
    "## $1000s$  integration"
   ]
  },
  {
   "cell_type": "code",
   "execution_count": 256,
   "metadata": {},
   "outputs": [
    {
     "name": "stdout",
     "output_type": "stream",
     "text": [
      "Running from t0=0s to t1=1000s for a total duration of t=1000 with time steps of dt=1000s each\n",
      "Time array: [1000]\n"
     ]
    }
   ],
   "source": [
    "my_grb_1000 = grbsens.grb.grb(\n",
    "    input_model=input_model_path, init_time=0, total_time=1000, delta_t=1000\n",
    ")\n",
    "\n",
    "print(f\"Time array: {my_grb_1000.times}\")"
   ]
  },
  {
   "cell_type": "code",
   "execution_count": 257,
   "metadata": {},
   "outputs": [
    {
     "name": "stdout",
     "output_type": "stream",
     "text": [
      "Running `cssens` job #0 for GRB for a duration of 1000.0s\n",
      "Done with duration=1000s\n",
      "\n",
      "CPU times: user 1min 36s, sys: 228 ms, total: 1min 36s\n",
      "Wall time: 1min 36s\n"
     ]
    }
   ],
   "source": [
    "%time my_grb_1000.execute(write_to_file=False, cwd=output_directory)"
   ]
  },
  {
   "cell_type": "code",
   "execution_count": 276,
   "metadata": {},
   "outputs": [
    {
     "name": "stdout",
     "output_type": "stream",
     "text": [
      "Running `cssens` job #0 for GRB for a duration of 1000.0s\n",
      "Done with duration=1000s\n",
      "\n",
      "Running `cssens` job #0 for GRB for a duration of 1000.0s\n",
      "Done with duration=1000s\n",
      "\n",
      "Running `cssens` job #0 for GRB for a duration of 1000.0s\n",
      "Done with duration=1000s\n",
      "\n",
      "Running `cssens` job #0 for GRB for a duration of 1000.0s\n",
      "Done with duration=1000s\n",
      "\n",
      "Running `cssens` job #0 for GRB for a duration of 1000.0s\n",
      "Done with duration=1000s\n",
      "\n",
      "Running `cssens` job #0 for GRB for a duration of 1000.0s\n",
      "Done with duration=1000s\n",
      "\n",
      "Running `cssens` job #0 for GRB for a duration of 1000.0s\n",
      "Done with duration=1000s\n",
      "\n",
      "Running `cssens` job #0 for GRB for a duration of 1000.0s\n",
      "Done with duration=1000s\n",
      "\n",
      "Running `cssens` job #0 for GRB for a duration of 1000.0s\n",
      "Done with duration=1000s\n",
      "\n",
      "1min 35s ± 30.7 ms per loop (mean ± std. dev. of 3 runs, 3 loops each)\n"
     ]
    }
   ],
   "source": [
    "%timeit -n 3 -r 3 my_grb_1000.execute(write_to_file=False, cwd=output_directory)"
   ]
  },
  {
   "cell_type": "markdown",
   "metadata": {},
   "source": [
    "## $10000s$  integration"
   ]
  },
  {
   "cell_type": "code",
   "execution_count": 258,
   "metadata": {},
   "outputs": [
    {
     "name": "stdout",
     "output_type": "stream",
     "text": [
      "Running from t0=0s to t1=10000s for a total duration of t=10000 with time steps of dt=10000s each\n",
      "Time array: [10000]\n"
     ]
    }
   ],
   "source": [
    "my_grb_10000 = grbsens.grb.grb(\n",
    "    input_model=input_model_path, init_time=0, total_time=10000, delta_t=10000\n",
    ")\n",
    "\n",
    "print(f\"Time array: {my_grb_10000.times}\")"
   ]
  },
  {
   "cell_type": "code",
   "execution_count": 282,
   "metadata": {},
   "outputs": [
    {
     "name": "stdout",
     "output_type": "stream",
     "text": [
      "Running `cssens` job #0 for GRB for a duration of 10000.0s\n",
      "Running with 20 cores.\n",
      "Done with duration=10000s\n",
      "\n",
      "CPU times: user 2min 26s, sys: 756 ms, total: 2min 27s\n",
      "Wall time: 2min 27s\n"
     ]
    }
   ],
   "source": [
    "%time my_grb_10000.execute(write_to_file=False, cwd=output_directory, nthreads=20)"
   ]
  },
  {
   "cell_type": "code",
   "execution_count": 277,
   "metadata": {},
   "outputs": [
    {
     "name": "stdout",
     "output_type": "stream",
     "text": [
      "Running `cssens` job #0 for GRB for a duration of 10000.0s\n",
      "Done with duration=10000s\n",
      "\n",
      "Running `cssens` job #0 for GRB for a duration of 10000.0s\n",
      "Done with duration=10000s\n",
      "\n",
      "Running `cssens` job #0 for GRB for a duration of 10000.0s\n",
      "Done with duration=10000s\n",
      "\n",
      "Running `cssens` job #0 for GRB for a duration of 10000.0s\n",
      "Done with duration=10000s\n",
      "\n",
      "Running `cssens` job #0 for GRB for a duration of 10000.0s\n",
      "Done with duration=10000s\n",
      "\n",
      "Running `cssens` job #0 for GRB for a duration of 10000.0s\n",
      "Done with duration=10000s\n",
      "\n",
      "Running `cssens` job #0 for GRB for a duration of 10000.0s\n",
      "Done with duration=10000s\n",
      "\n",
      "Running `cssens` job #0 for GRB for a duration of 10000.0s\n",
      "Done with duration=10000s\n",
      "\n",
      "Running `cssens` job #0 for GRB for a duration of 10000.0s\n",
      "Done with duration=10000s\n",
      "\n",
      "2min 27s ± 227 ms per loop (mean ± std. dev. of 3 runs, 3 loops each)\n"
     ]
    }
   ],
   "source": [
    "%timeit -n 3 -r 3 my_grb_10000.execute(write_to_file=False, cwd=output_directory)"
   ]
  },
  {
   "cell_type": "code",
   "execution_count": null,
   "metadata": {},
   "outputs": [],
   "source": []
  }
 ],
 "metadata": {
  "kernelspec": {
   "display_name": "ctools",
   "language": "python",
   "name": "ctools"
  },
  "language_info": {
   "codemirror_mode": {
    "name": "ipython",
    "version": 3
   },
   "file_extension": ".py",
   "mimetype": "text/x-python",
   "name": "python",
   "nbconvert_exporter": "python",
   "pygments_lexer": "ipython3",
   "version": "3.6.10"
  },
  "toc-autonumbering": true
 },
 "nbformat": 4,
 "nbformat_minor": 4
}
