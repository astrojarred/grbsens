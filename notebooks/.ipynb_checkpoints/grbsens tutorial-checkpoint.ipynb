{
 "cells": [
  {
   "cell_type": "markdown",
   "metadata": {},
   "source": [
    "# Tutorial: simulating sensitivities with `grbsens` \n",
    "Goals of the project:\n",
    "\n",
    "1. Create a package purely in python 3 that can run either in a notebook or from the command line\n",
    "2. Add the option of parallelization\n",
    "\n",
    "\n",
    "[Click here for Github repository](https://github.com/astrojarred/grbsens)\n"
   ]
  },
  {
   "cell_type": "markdown",
   "metadata": {},
   "source": [
    "# Imports and settings"
   ]
  },
  {
   "cell_type": "markdown",
   "metadata": {},
   "source": [
    "## Import standard python packages"
   ]
  },
  {
   "cell_type": "code",
   "execution_count": 22,
   "metadata": {},
   "outputs": [],
   "source": [
    "import os\n",
    "import sys\n",
    "import seaborn as sns\n",
    "import numpy as np\n",
    "import pandas as pd\n",
    "from matplotlib import pyplot as plt"
   ]
  },
  {
   "cell_type": "markdown",
   "metadata": {},
   "source": [
    "## import ctools and gammalib"
   ]
  },
  {
   "cell_type": "code",
   "execution_count": 2,
   "metadata": {},
   "outputs": [],
   "source": [
    "import gammalib\n",
    "import ctools\n",
    "import cscripts"
   ]
  },
  {
   "cell_type": "markdown",
   "metadata": {},
   "source": [
    "## import grbsens package"
   ]
  },
  {
   "cell_type": "code",
   "execution_count": 3,
   "metadata": {},
   "outputs": [],
   "source": [
    "sys.path.insert(0, '/astri01/data1/gershon/ctools_patricelli/')\n",
    "\n",
    "import grbsens.grb"
   ]
  },
  {
   "cell_type": "markdown",
   "metadata": {},
   "source": [
    "## Set additional settings"
   ]
  },
  {
   "cell_type": "code",
   "execution_count": 28,
   "metadata": {},
   "outputs": [
    {
     "name": "stdout",
     "output_type": "stream",
     "text": [
      "The autoreload extension is already loaded. To reload it, use:\n",
      "  %reload_ext autoreload\n",
      "Modules to reload:\n",
      "grbsens.grb\n",
      "\n",
      "Modules to skip:\n",
      "\n"
     ]
    }
   ],
   "source": [
    "# display all pandas columns\n",
    "pd.set_option(\"display.max_columns\", None)\n",
    "\n",
    "# set seaborn to be the plotter\n",
    "sns.set()\n",
    "\n",
    "# automatically reload grbsens from source\n",
    "%load_ext autoreload\n",
    "%autoreload 1\n",
    "%aimport grbsens.grb\n",
    "%aimport"
   ]
  },
  {
   "cell_type": "markdown",
   "metadata": {},
   "source": [
    "## Add `ctools` info to paths"
   ]
  },
  {
   "cell_type": "code",
   "execution_count": 5,
   "metadata": {},
   "outputs": [],
   "source": [
    "os.environ[\"CTOOLS\"] = \"/astri01/data1/gershon/anaconda3/envs/ctools\"\n",
    "os.environ[\"GAMMALIB\"] = \"/astri01/data1/gershon/anaconda3/envs/ctools\"\n",
    "os.environ[\"CALDB\"] = \"/astri01/data1/gershon/anaconda3/envs/ctools/share/caldb\""
   ]
  },
  {
   "cell_type": "markdown",
   "metadata": {},
   "source": [
    "# Calculating sensitivity with equally-spaced time bins"
   ]
  },
  {
   "cell_type": "markdown",
   "metadata": {},
   "source": [
    "## Specify filepath to input model and output directory"
   ]
  },
  {
   "cell_type": "code",
   "execution_count": 6,
   "metadata": {},
   "outputs": [],
   "source": [
    "output_directory=\"/astri01/data1/gershon/ctools_patricelli/notebooks\"\n",
    "input_model_path= \"/astri01/data1/gershon/ctools_patricelli/notebooks/grb.xml\""
   ]
  },
  {
   "cell_type": "markdown",
   "metadata": {},
   "source": [
    "## Initialize a `grbsens.grb.grb` class\n",
    "\n",
    "- The only required option is `input_model` which ios the path to the input model `.xml` file\n",
    "- The defaults settings are:\n",
    "\n",
    "```python\n",
    "    total_time=1.0\n",
    "    delta_t=1.0\n",
    "    emin=0.03\n",
    "    emax=10\n",
    "    bins=1\n",
    "    irf='North_0.5h'\n",
    "    init_time=1.0\n",
    "    sigma=5.0\n",
    "    offset=0.0\n",
    "    binsz=0.2\n",
    "    sens_type='Integral'\n",
    "    rad=2.25\n",
    "    caldb='prod2'\n",
    "    src_name='GRB'\n",
    "    \n",
    "```\n",
    "- Now we will run an example of equally spaced time bins of 1s from 0-4 seconds"
   ]
  },
  {
   "cell_type": "code",
   "execution_count": 24,
   "metadata": {},
   "outputs": [
    {
     "name": "stdout",
     "output_type": "stream",
     "text": [
      "Running from t0=0s to t1=4s for a total duration of t=4 with time steps of dt=1s each\n"
     ]
    }
   ],
   "source": [
    "my_grb = grbsens.grb.grb(input_model=input_model_path, init_time=0, total_time=4, delta_t=1)"
   ]
  },
  {
   "cell_type": "markdown",
   "metadata": {},
   "source": [
    "## Execute the simulations\n",
    "- Options include:\n",
    "\n",
    "```python\n",
    "    write_to_file=True     # writes output to a csv\n",
    "    output_filepath=None   # full filepath and filename (including .csv) of output csv\n",
    "    cwd=None               # current working directory (where to store cssens outputs and logs)\n",
    "    load_results=False     # see comments below?\n",
    "```\n",
    "- `load_results` skips the simulation altogether and simply loads the outputs of a previous simulation. This is useful for:\n",
    "    - loading in previously-calculated results in order to make plots or manipulate the data in any other way\n",
    "    - demonstration purposes when you want to explain the feautres of the package without waiting for `cssens` to run"
   ]
  },
  {
   "cell_type": "code",
   "execution_count": 25,
   "metadata": {},
   "outputs": [
    {
     "name": "stdout",
     "output_type": "stream",
     "text": [
      "Running `cssens` job #0 for GRB for a duration of 1.0s\n",
      "Done with duration=1s\n",
      "\n",
      "Running `cssens` job #1 for GRB for a duration of 2.0s\n",
      "Done with duration=2s\n",
      "\n",
      "Running `cssens` job #2 for GRB for a duration of 3.0s\n",
      "Done with duration=3s\n",
      "\n",
      "Running `cssens` job #3 for GRB for a duration of 4.0s\n",
      "Done with duration=4s\n",
      "\n"
     ]
    }
   ],
   "source": [
    "my_grb.execute(write_to_file=False, cwd=output_directory, load_results=True)"
   ]
  },
  {
   "cell_type": "markdown",
   "metadata": {},
   "source": [
    "## view output in pandas format with `grb.output()`"
   ]
  },
  {
   "cell_type": "code",
   "execution_count": 26,
   "metadata": {},
   "outputs": [
    {
     "data": {
      "text/html": [
       "<div>\n",
       "<style scoped>\n",
       "    .dataframe tbody tr th:only-of-type {\n",
       "        vertical-align: middle;\n",
       "    }\n",
       "\n",
       "    .dataframe tbody tr th {\n",
       "        vertical-align: top;\n",
       "    }\n",
       "\n",
       "    .dataframe thead th {\n",
       "        text-align: right;\n",
       "    }\n",
       "</style>\n",
       "<table border=\"1\" class=\"dataframe\">\n",
       "  <thead>\n",
       "    <tr style=\"text-align: right;\">\n",
       "      <th></th>\n",
       "      <th>loge</th>\n",
       "      <th>emin</th>\n",
       "      <th>emax</th>\n",
       "      <th>crab_flux</th>\n",
       "      <th>photon_flux</th>\n",
       "      <th>energy_flux</th>\n",
       "      <th>sensitivity</th>\n",
       "      <th>regcoeff</th>\n",
       "      <th>nevents</th>\n",
       "      <th>npred</th>\n",
       "      <th>duration</th>\n",
       "      <th>output_file</th>\n",
       "      <th>log_file</th>\n",
       "    </tr>\n",
       "    <tr>\n",
       "      <th>job_number</th>\n",
       "      <th></th>\n",
       "      <th></th>\n",
       "      <th></th>\n",
       "      <th></th>\n",
       "      <th></th>\n",
       "      <th></th>\n",
       "      <th></th>\n",
       "      <th></th>\n",
       "      <th></th>\n",
       "      <th></th>\n",
       "      <th></th>\n",
       "      <th></th>\n",
       "      <th></th>\n",
       "    </tr>\n",
       "  </thead>\n",
       "  <tbody>\n",
       "    <tr>\n",
       "      <th>0</th>\n",
       "      <td>-0.261439</td>\n",
       "      <td>0.03</td>\n",
       "      <td>10.0</td>\n",
       "      <td>2.084710</td>\n",
       "      <td>7.272769e-09</td>\n",
       "      <td>1.697115e-09</td>\n",
       "      <td>2.880777e-10</td>\n",
       "      <td>0.995410</td>\n",
       "      <td>23.0</td>\n",
       "      <td>22.979056</td>\n",
       "      <td>1.0</td>\n",
       "      <td>/astri01/data1/gershon/ctools_patricelli/noteb...</td>\n",
       "      <td>/astri01/data1/gershon/ctools_patricelli/noteb...</td>\n",
       "    </tr>\n",
       "    <tr>\n",
       "      <th>1</th>\n",
       "      <td>-0.261439</td>\n",
       "      <td>0.03</td>\n",
       "      <td>10.0</td>\n",
       "      <td>0.899085</td>\n",
       "      <td>3.136569e-09</td>\n",
       "      <td>7.319243e-10</td>\n",
       "      <td>1.242409e-10</td>\n",
       "      <td>0.977380</td>\n",
       "      <td>30.0</td>\n",
       "      <td>29.998423</td>\n",
       "      <td>2.0</td>\n",
       "      <td>/astri01/data1/gershon/ctools_patricelli/noteb...</td>\n",
       "      <td>/astri01/data1/gershon/ctools_patricelli/noteb...</td>\n",
       "    </tr>\n",
       "    <tr>\n",
       "      <th>2</th>\n",
       "      <td>-0.261439</td>\n",
       "      <td>0.03</td>\n",
       "      <td>10.0</td>\n",
       "      <td>0.662850</td>\n",
       "      <td>2.312434e-09</td>\n",
       "      <td>5.396109e-10</td>\n",
       "      <td>9.159655e-11</td>\n",
       "      <td>0.931974</td>\n",
       "      <td>62.0</td>\n",
       "      <td>61.982471</td>\n",
       "      <td>3.0</td>\n",
       "      <td>/astri01/data1/gershon/ctools_patricelli/noteb...</td>\n",
       "      <td>/astri01/data1/gershon/ctools_patricelli/noteb...</td>\n",
       "    </tr>\n",
       "    <tr>\n",
       "      <th>3</th>\n",
       "      <td>-0.261439</td>\n",
       "      <td>0.03</td>\n",
       "      <td>10.0</td>\n",
       "      <td>0.529761</td>\n",
       "      <td>1.848138e-09</td>\n",
       "      <td>4.312665e-10</td>\n",
       "      <td>7.320557e-11</td>\n",
       "      <td>0.735037</td>\n",
       "      <td>65.0</td>\n",
       "      <td>64.999965</td>\n",
       "      <td>4.0</td>\n",
       "      <td>/astri01/data1/gershon/ctools_patricelli/noteb...</td>\n",
       "      <td>/astri01/data1/gershon/ctools_patricelli/noteb...</td>\n",
       "    </tr>\n",
       "  </tbody>\n",
       "</table>\n",
       "</div>"
      ],
      "text/plain": [
       "                loge  emin  emax  crab_flux   photon_flux   energy_flux  \\\n",
       "job_number                                                                \n",
       "0          -0.261439  0.03  10.0   2.084710  7.272769e-09  1.697115e-09   \n",
       "1          -0.261439  0.03  10.0   0.899085  3.136569e-09  7.319243e-10   \n",
       "2          -0.261439  0.03  10.0   0.662850  2.312434e-09  5.396109e-10   \n",
       "3          -0.261439  0.03  10.0   0.529761  1.848138e-09  4.312665e-10   \n",
       "\n",
       "             sensitivity  regcoeff  nevents      npred  duration  \\\n",
       "job_number                                                         \n",
       "0           2.880777e-10  0.995410     23.0  22.979056       1.0   \n",
       "1           1.242409e-10  0.977380     30.0  29.998423       2.0   \n",
       "2           9.159655e-11  0.931974     62.0  61.982471       3.0   \n",
       "3           7.320557e-11  0.735037     65.0  64.999965       4.0   \n",
       "\n",
       "                                                  output_file  \\\n",
       "job_number                                                      \n",
       "0           /astri01/data1/gershon/ctools_patricelli/noteb...   \n",
       "1           /astri01/data1/gershon/ctools_patricelli/noteb...   \n",
       "2           /astri01/data1/gershon/ctools_patricelli/noteb...   \n",
       "3           /astri01/data1/gershon/ctools_patricelli/noteb...   \n",
       "\n",
       "                                                     log_file  \n",
       "job_number                                                     \n",
       "0           /astri01/data1/gershon/ctools_patricelli/noteb...  \n",
       "1           /astri01/data1/gershon/ctools_patricelli/noteb...  \n",
       "2           /astri01/data1/gershon/ctools_patricelli/noteb...  \n",
       "3           /astri01/data1/gershon/ctools_patricelli/noteb...  "
      ]
     },
     "execution_count": 26,
     "metadata": {},
     "output_type": "execute_result"
    }
   ],
   "source": [
    "my_grb.output"
   ]
  },
  {
   "cell_type": "markdown",
   "metadata": {},
   "source": [
    "## Make a duration vs. sensitivity plot with `grb.plot_results()`"
   ]
  },
  {
   "cell_type": "code",
   "execution_count": 36,
   "metadata": {},
   "outputs": [
    {
     "data": {
      "image/png": "[encoded data removed]",
      "text/plain": [
       "<Figure size 648x432 with 1 Axes>"
      ]
     },
     "metadata": {},
     "output_type": "display_data"
    }
   ],
   "source": [
    "my_grb.plot_results(logy=True, logx=False)"
   ]
  },
  {
   "cell_type": "code",
   "execution_count": null,
   "metadata": {},
   "outputs": [],
   "source": []
  }
 ],
 "metadata": {
  "kernelspec": {
   "display_name": "ctools",
   "language": "python",
   "name": "ctools"
  },
  "language_info": {
   "codemirror_mode": {
    "name": "ipython",
    "version": 3
   },
   "file_extension": ".py",
   "mimetype": "text/x-python",
   "name": "python",
   "nbconvert_exporter": "python",
   "pygments_lexer": "ipython3",
   "version": "3.6.10"
  }
 },
 "nbformat": 4,
 "nbformat_minor": 4
}
