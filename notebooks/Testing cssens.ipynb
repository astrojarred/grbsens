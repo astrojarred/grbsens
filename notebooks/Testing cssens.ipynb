{
 "cells": [
  {
   "cell_type": "markdown",
   "metadata": {
    "collapsed": true,
    "pycharm": {
     "name": "#%% md\n"
    }
   },
   "source": [
    "# Testing `cssens` with python\n",
    "- Main goal -- discover whether the ctools python module of `cssens` will work.\n",
    "    - does it produce the same output as the command line?"
   ]
  },
  {
   "cell_type": "markdown",
   "source": [
    "# Imports"
   ],
   "metadata": {
    "collapsed": false
   }
  },
  {
   "cell_type": "code",
   "execution_count": null,
   "outputs": [],
   "source": [
    "import numpy as np\n",
    "import ctools\n",
    "import gammalib"
   ],
   "metadata": {
    "collapsed": false,
    "pycharm": {
     "name": "#%%\n"
    }
   }
  },
  {
   "cell_type": "markdown",
   "source": [
    "# Testing the module\n",
    "## `cssens` sample command\n",
    "\n",
    "```text\n",
    "cssens\n",
    "inmodel=TrueModel\n",
    "srcname=GRB\n",
    "caldb=str(caldb)\n",
    "irf=str(irf)\n",
    "rad=str(rad)\n",
    "emin=str(emin)\n",
    "emax=str(emax)\n",
    "type=Integral\n",
    "sigma=str(sigma)\n",
    "bins=str(bins)\n",
    "duration=str(ObsTime)\n",
    "outfile=outfile\n",
    "binsz=str(binsz)\n",
    "offset=str(offset)\n",
    "```"
   ],
   "metadata": {
    "collapsed": false
   }
  },
  {
   "cell_type": "code",
   "execution_count": null,
   "outputs": [],
   "source": [
    "\n"
   ],
   "metadata": {
    "collapsed": false,
    "pycharm": {
     "name": "#%%\n"
    }
   }
  }
 ],
 "metadata": {
  "kernelspec": {
   "display_name": "Python 3",
   "language": "python",
   "name": "python3"
  },
  "language_info": {
   "codemirror_mode": {
    "name": "ipython",
    "version": 2
   },
   "file_extension": ".py",
   "mimetype": "text/x-python",
   "name": "python",
   "nbconvert_exporter": "python",
   "pygments_lexer": "ipython2",
   "version": "2.7.6"
  }
 },
 "nbformat": 4,
 "nbformat_minor": 0
}